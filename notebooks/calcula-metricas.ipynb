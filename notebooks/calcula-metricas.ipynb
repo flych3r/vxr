{
 "cells": [
  {
   "cell_type": "code",
   "execution_count": null,
   "metadata": {},
   "outputs": [],
   "source": [
    "import json\n",
    "from pathlib import Path\n",
    "\n",
    "import evaluate\n",
    "import numpy as np\n",
    "import pandas as pd\n",
    "from tqdm.auto import tqdm"
   ]
  },
  {
   "cell_type": "code",
   "execution_count": null,
   "metadata": {},
   "outputs": [],
   "source": [
    "tqdm.pandas()\n",
    "\n",
    "sacrebleu = evaluate.load('sacrebleu')\n",
    "meteor = evaluate.load('meteor')\n",
    "bertscore = evaluate.load('bert_score')\n",
    "\n",
    "def compute_metrics(references, predictions):\n",
    "    sacrebleu_score = sacrebleu.compute(references=references, predictions=predictions)\n",
    "    meteor_score = meteor.compute(references=references, predictions=predictions)\n",
    "    bertscore_score = bertscore.compute(references=references, predictions=predictions)\n",
    "\n",
    "    return {\n",
    "        'sacrebleu': sacrebleu_score['score'] / 100,\n",
    "        **{\n",
    "            f'bleu-{i}': s / 100\n",
    "            for i, s in enumerate(sacrebleu_score['precisions'], start=1)\n",
    "        },\n",
    "        **meteor_score,\n",
    "        'bertscore-precision': np.mean(bertscore_score['precision']),\n",
    "        'bertscore-recall': np.mean(bertscore_score['recall']),\n",
    "        'bertscore-f1': np.mean(bertscore_score['f1']),\n",
    "    }"
   ]
  },
  {
   "cell_type": "code",
   "execution_count": null,
   "metadata": {},
   "outputs": [],
   "source": [
    "with open('annotation.json') as f:\n",
    "    test = json.load(f)['test']\n",
    "    test_ids = [t['id'] for t in test]\n",
    "    labels = [t['labels'] for t in test]"
   ]
  },
  {
   "cell_type": "code",
   "execution_count": null,
   "metadata": {},
   "outputs": [],
   "source": [
    "for p in Path('results').glob('*.json'):\n",
    "    with open(p) as f:\n",
    "        texts = json.load(f)\n",
    "        texts = pd.DataFrame(texts)\n",
    "\n",
    "    texts['ground_truth'] = texts['ground_truth'].str.lower()\n",
    "    texts['inference'] = texts['inference'].str.lower()\n",
    "\n",
    "    metrics = compute_metrics(references=texts['ground_truth'].values, predictions=texts['inference'].values)\n",
    "\n",
    "    texts['image_id'] = test_ids\n",
    "    texts['labels'] = labels\n",
    "    texts = texts[['image_id', 'labels', 'ground_truth', 'inference']]\n",
    "\n",
    "    texts['bleu'] = texts.progress_apply(\n",
    "        lambda x: sacrebleu.compute(references=[x['ground_truth']], predictions=[x['inference']])['score'],\n",
    "        axis=1\n",
    "    )\n",
    "    texts = texts.sort_values(by=['bleu'], ascending=False)\n",
    "\n",
    "    with open(f'results/metrics/{p.stem}_metrics.json', 'w') as f:\n",
    "        json.dump({\n",
    "            'original': metrics,\n",
    "            'cleaned': compute_metrics(references=texts['ground_truth'].values, predictions=texts['inference'].values)\n",
    "        }, f, indent=4)\n",
    "\n",
    "    texts.to_csv(f'results/texts/{p.stem}_texts.csv', index=False)"
   ]
  }
 ],
 "metadata": {
  "kernelspec": {
   "display_name": "Python 3.10.4 64-bit",
   "language": "python",
   "name": "python3"
  },
  "language_info": {
   "codemirror_mode": {
    "name": "ipython",
    "version": 3
   },
   "file_extension": ".py",
   "mimetype": "text/x-python",
   "name": "python",
   "nbconvert_exporter": "python",
   "pygments_lexer": "ipython3",
   "version": "3.10.4"
  },
  "orig_nbformat": 4,
  "vscode": {
   "interpreter": {
    "hash": "949777d72b0d2535278d3dc13498b2535136f6dfe0678499012e853ee9abcab1"
   }
  }
 },
 "nbformat": 4,
 "nbformat_minor": 2
}
