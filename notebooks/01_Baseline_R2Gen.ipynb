{
 "cells": [
  {
   "cell_type": "code",
   "execution_count": 1,
   "id": "c79799aa",
   "metadata": {
    "execution": {
     "iopub.execute_input": "2022-06-28T13:06:38.956733Z",
     "iopub.status.busy": "2022-06-28T13:06:38.956154Z",
     "iopub.status.idle": "2022-06-28T13:06:39.651983Z",
     "shell.execute_reply": "2022-06-28T13:06:39.650973Z"
    },
    "papermill": {
     "duration": 0.706322,
     "end_time": "2022-06-28T13:06:39.654341",
     "exception": false,
     "start_time": "2022-06-28T13:06:38.948019",
     "status": "completed"
    },
    "tags": []
   },
   "outputs": [
    {
     "name": "stdout",
     "output_type": "stream",
     "text": [
      "annotation.json  images\r\n"
     ]
    }
   ],
   "source": [
    "!ls /kaggle/input/chestxraycaption/mimic_cxr/mimic_cxr/"
   ]
  },
  {
   "cell_type": "code",
   "execution_count": 2,
   "id": "267923a5",
   "metadata": {
    "_cell_guid": "b1076dfc-b9ad-4769-8c92-a6c4dae69d19",
    "_uuid": "8f2839f25d086af736a60e9eeb907d3b93b6e0e5",
    "execution": {
     "iopub.execute_input": "2022-06-28T13:06:39.666223Z",
     "iopub.status.busy": "2022-06-28T13:06:39.665468Z",
     "iopub.status.idle": "2022-06-28T13:06:43.866773Z",
     "shell.execute_reply": "2022-06-28T13:06:43.865789Z"
    },
    "papermill": {
     "duration": 4.209778,
     "end_time": "2022-06-28T13:06:43.869026",
     "exception": false,
     "start_time": "2022-06-28T13:06:39.659248",
     "status": "completed"
    },
    "tags": []
   },
   "outputs": [
    {
     "name": "stdout",
     "output_type": "stream",
     "text": [
      "Cloning into 'R2Gen'...\r\n",
      "remote: Enumerating objects: 251, done.\u001b[K\r\n",
      "remote: Counting objects: 100% (162/162), done.\u001b[K\r\n",
      "remote: Compressing objects: 100% (54/54), done.\u001b[K\r\n",
      "remote: Total 251 (delta 108), reused 152 (delta 105), pack-reused 89\u001b[K\r\n",
      "Receiving objects: 100% (251/251), 70.24 MiB | 33.02 MiB/s, done.\r\n",
      "Resolving deltas: 100% (135/135), done.\r\n"
     ]
    }
   ],
   "source": [
    "!git clone --branch dev https://github.com/flych3r/R2Gen"
   ]
  },
  {
   "cell_type": "code",
   "execution_count": 3,
   "id": "0b5a3024",
   "metadata": {
    "execution": {
     "iopub.execute_input": "2022-06-28T13:06:43.881192Z",
     "iopub.status.busy": "2022-06-28T13:06:43.880883Z",
     "iopub.status.idle": "2022-06-28T13:06:43.887472Z",
     "shell.execute_reply": "2022-06-28T13:06:43.886447Z"
    },
    "papermill": {
     "duration": 0.014869,
     "end_time": "2022-06-28T13:06:43.889651",
     "exception": false,
     "start_time": "2022-06-28T13:06:43.874782",
     "status": "completed"
    },
    "tags": []
   },
   "outputs": [
    {
     "name": "stdout",
     "output_type": "stream",
     "text": [
      "/kaggle/working/R2Gen\n"
     ]
    }
   ],
   "source": [
    "%cd R2Gen/"
   ]
  },
  {
   "cell_type": "code",
   "execution_count": 4,
   "id": "c46fa2ce",
   "metadata": {
    "execution": {
     "iopub.execute_input": "2022-06-28T13:06:43.902245Z",
     "iopub.status.busy": "2022-06-28T13:06:43.900902Z",
     "iopub.status.idle": "2022-06-28T13:06:44.892216Z",
     "shell.execute_reply": "2022-06-28T13:06:44.891201Z"
    },
    "papermill": {
     "duration": 0.999077,
     "end_time": "2022-06-28T13:06:44.894282",
     "exception": false,
     "start_time": "2022-06-28T13:06:43.895205",
     "status": "completed"
    },
    "tags": []
   },
   "outputs": [
    {
     "name": "stdout",
     "output_type": "stream",
     "text": [
      "From https://github.com/flych3r/R2Gen\r\n",
      " * branch            dev        -> FETCH_HEAD\r\n",
      "Already up to date.\r\n"
     ]
    }
   ],
   "source": [
    "!git pull origin dev"
   ]
  },
  {
   "cell_type": "code",
   "execution_count": 5,
   "id": "2014d87f",
   "metadata": {
    "execution": {
     "iopub.execute_input": "2022-06-28T13:06:44.906497Z",
     "iopub.status.busy": "2022-06-28T13:06:44.905799Z",
     "iopub.status.idle": "2022-06-28T13:07:14.966390Z",
     "shell.execute_reply": "2022-06-28T13:07:14.965188Z"
    },
    "papermill": {
     "duration": 30.077976,
     "end_time": "2022-06-28T13:07:14.977542",
     "exception": false,
     "start_time": "2022-06-28T13:06:44.899566",
     "status": "completed"
    },
    "tags": []
   },
   "outputs": [
    {
     "name": "stdout",
     "output_type": "stream",
     "text": [
      "Requirement already satisfied: torch in /opt/conda/lib/python3.7/site-packages (from -r requirements.txt (line 1)) (1.11.0)\r\n",
      "Requirement already satisfied: numpy in /opt/conda/lib/python3.7/site-packages (from -r requirements.txt (line 2)) (1.21.6)\r\n",
      "Requirement already satisfied: pillow in /opt/conda/lib/python3.7/site-packages (from -r requirements.txt (line 3)) (9.1.0)\r\n",
      "Requirement already satisfied: torchvision in /opt/conda/lib/python3.7/site-packages (from -r requirements.txt (line 4)) (0.12.0)\r\n",
      "Requirement already satisfied: transformers in /opt/conda/lib/python3.7/site-packages (from -r requirements.txt (line 5)) (4.18.0)\r\n",
      "Requirement already satisfied: pandas in /opt/conda/lib/python3.7/site-packages (from -r requirements.txt (line 6)) (1.3.5)\r\n",
      "Collecting gdown\r\n",
      "  Downloading gdown-4.5.1.tar.gz (14 kB)\r\n",
      "  Installing build dependencies ... \u001b[?25l-\b \b\\\b \b|\b \b/\b \b-\b \b\\\b \bdone\r\n",
      "\u001b[?25h  Getting requirements to build wheel ... \u001b[?25l-\b \b\\\b \b|\b \b/\b \b-\b \bdone\r\n",
      "\u001b[?25h  Preparing metadata (pyproject.toml) ... \u001b[?25l-\b \b\\\b \b|\b \b/\b \b-\b \b\\\b \bdone\r\n",
      "\u001b[?25hRequirement already satisfied: wandb in /opt/conda/lib/python3.7/site-packages (from -r requirements.txt (line 8)) (0.12.16)\r\n",
      "Requirement already satisfied: tqdm in /opt/conda/lib/python3.7/site-packages (from -r requirements.txt (line 9)) (4.64.0)\r\n",
      "Requirement already satisfied: typing-extensions in /opt/conda/lib/python3.7/site-packages (from torch->-r requirements.txt (line 1)) (4.2.0)\r\n",
      "Requirement already satisfied: requests in /opt/conda/lib/python3.7/site-packages (from torchvision->-r requirements.txt (line 4)) (2.27.1)\r\n",
      "Requirement already satisfied: filelock in /opt/conda/lib/python3.7/site-packages (from transformers->-r requirements.txt (line 5)) (3.6.0)\r\n",
      "Requirement already satisfied: packaging>=20.0 in /opt/conda/lib/python3.7/site-packages (from transformers->-r requirements.txt (line 5)) (21.3)\r\n",
      "Requirement already satisfied: importlib-metadata in /opt/conda/lib/python3.7/site-packages (from transformers->-r requirements.txt (line 5)) (4.11.4)\r\n",
      "Requirement already satisfied: huggingface-hub<1.0,>=0.1.0 in /opt/conda/lib/python3.7/site-packages (from transformers->-r requirements.txt (line 5)) (0.5.1)\r\n",
      "Requirement already satisfied: tokenizers!=0.11.3,<0.13,>=0.11.1 in /opt/conda/lib/python3.7/site-packages (from transformers->-r requirements.txt (line 5)) (0.12.1)\r\n",
      "Requirement already satisfied: regex!=2019.12.17 in /opt/conda/lib/python3.7/site-packages (from transformers->-r requirements.txt (line 5)) (2021.11.10)\r\n",
      "Requirement already satisfied: pyyaml>=5.1 in /opt/conda/lib/python3.7/site-packages (from transformers->-r requirements.txt (line 5)) (6.0)\r\n",
      "Requirement already satisfied: sacremoses in /opt/conda/lib/python3.7/site-packages (from transformers->-r requirements.txt (line 5)) (0.0.53)\r\n",
      "Requirement already satisfied: python-dateutil>=2.7.3 in /opt/conda/lib/python3.7/site-packages (from pandas->-r requirements.txt (line 6)) (2.8.2)\r\n",
      "Requirement already satisfied: pytz>=2017.3 in /opt/conda/lib/python3.7/site-packages (from pandas->-r requirements.txt (line 6)) (2022.1)\r\n",
      "Requirement already satisfied: six in /opt/conda/lib/python3.7/site-packages (from gdown->-r requirements.txt (line 7)) (1.16.0)\r\n",
      "Requirement already satisfied: beautifulsoup4 in /opt/conda/lib/python3.7/site-packages (from gdown->-r requirements.txt (line 7)) (4.11.1)\r\n",
      "Requirement already satisfied: psutil>=5.0.0 in /opt/conda/lib/python3.7/site-packages (from wandb->-r requirements.txt (line 8)) (5.9.0)\r\n",
      "Requirement already satisfied: sentry-sdk>=1.0.0 in /opt/conda/lib/python3.7/site-packages (from wandb->-r requirements.txt (line 8)) (1.5.12)\r\n",
      "Requirement already satisfied: setproctitle in /opt/conda/lib/python3.7/site-packages (from wandb->-r requirements.txt (line 8)) (1.2.3)\r\n",
      "Requirement already satisfied: pathtools in /opt/conda/lib/python3.7/site-packages (from wandb->-r requirements.txt (line 8)) (0.1.2)\r\n",
      "Requirement already satisfied: protobuf>=3.12.0 in /opt/conda/lib/python3.7/site-packages (from wandb->-r requirements.txt (line 8)) (3.20.1)\r\n",
      "Requirement already satisfied: promise<3,>=2.0 in /opt/conda/lib/python3.7/site-packages (from wandb->-r requirements.txt (line 8)) (2.3)\r\n",
      "Requirement already satisfied: GitPython>=1.0.0 in /opt/conda/lib/python3.7/site-packages (from wandb->-r requirements.txt (line 8)) (3.1.27)\r\n",
      "Requirement already satisfied: setuptools in /opt/conda/lib/python3.7/site-packages (from wandb->-r requirements.txt (line 8)) (59.8.0)\r\n",
      "Requirement already satisfied: docker-pycreds>=0.4.0 in /opt/conda/lib/python3.7/site-packages (from wandb->-r requirements.txt (line 8)) (0.4.0)\r\n",
      "Requirement already satisfied: Click!=8.0.0,>=7.0 in /opt/conda/lib/python3.7/site-packages (from wandb->-r requirements.txt (line 8)) (8.0.4)\r\n",
      "Requirement already satisfied: shortuuid>=0.5.0 in /opt/conda/lib/python3.7/site-packages (from wandb->-r requirements.txt (line 8)) (1.0.9)\r\n",
      "Requirement already satisfied: gitdb<5,>=4.0.1 in /opt/conda/lib/python3.7/site-packages (from GitPython>=1.0.0->wandb->-r requirements.txt (line 8)) (4.0.9)\r\n",
      "Requirement already satisfied: pyparsing!=3.0.5,>=2.0.2 in /opt/conda/lib/python3.7/site-packages (from packaging>=20.0->transformers->-r requirements.txt (line 5)) (3.0.9)\r\n",
      "Requirement already satisfied: urllib3<1.27,>=1.21.1 in /opt/conda/lib/python3.7/site-packages (from requests->torchvision->-r requirements.txt (line 4)) (1.26.9)\r\n",
      "Requirement already satisfied: charset-normalizer~=2.0.0 in /opt/conda/lib/python3.7/site-packages (from requests->torchvision->-r requirements.txt (line 4)) (2.0.12)\r\n",
      "Requirement already satisfied: idna<4,>=2.5 in /opt/conda/lib/python3.7/site-packages (from requests->torchvision->-r requirements.txt (line 4)) (3.3)\r\n",
      "Requirement already satisfied: certifi>=2017.4.17 in /opt/conda/lib/python3.7/site-packages (from requests->torchvision->-r requirements.txt (line 4)) (2022.5.18.1)\r\n",
      "Requirement already satisfied: soupsieve>1.2 in /opt/conda/lib/python3.7/site-packages (from beautifulsoup4->gdown->-r requirements.txt (line 7)) (2.3.1)\r\n",
      "Requirement already satisfied: zipp>=0.5 in /opt/conda/lib/python3.7/site-packages (from importlib-metadata->transformers->-r requirements.txt (line 5)) (3.8.0)\r\n",
      "Requirement already satisfied: PySocks!=1.5.7,>=1.5.6 in /opt/conda/lib/python3.7/site-packages (from requests->torchvision->-r requirements.txt (line 4)) (1.7.1)\r\n",
      "Requirement already satisfied: joblib in /opt/conda/lib/python3.7/site-packages (from sacremoses->transformers->-r requirements.txt (line 5)) (1.1.0)\r\n",
      "Requirement already satisfied: smmap<6,>=3.0.1 in /opt/conda/lib/python3.7/site-packages (from gitdb<5,>=4.0.1->GitPython>=1.0.0->wandb->-r requirements.txt (line 8)) (3.0.5)\r\n",
      "Building wheels for collected packages: gdown\r\n",
      "  Building wheel for gdown (pyproject.toml) ... \u001b[?25l-\b \b\\\b \b|\b \b/\b \b-\b \b\\\b \b|\b \bdone\r\n",
      "\u001b[?25h  Created wheel for gdown: filename=gdown-4.5.1-py3-none-any.whl size=14933 sha256=a631d73028ff9b4df3bd467aed3accb385255bdf80bea340d1352fd7c9a8eb38\r\n",
      "  Stored in directory: /root/.cache/pip/wheels/3d/ec/b0/a96d1d126183f98570a785e6bf8789fca559853a9260e928e1\r\n",
      "Successfully built gdown\r\n",
      "Installing collected packages: gdown\r\n",
      "Successfully installed gdown-4.5.1\r\n",
      "\u001b[33mWARNING: Running pip as the 'root' user can result in broken permissions and conflicting behaviour with the system package manager. It is recommended to use a virtual environment instead: https://pip.pypa.io/warnings/venv\u001b[0m\u001b[33m\r\n",
      "\u001b[0mNote: you may need to restart the kernel to use updated packages.\n"
     ]
    }
   ],
   "source": [
    "%pip install -r requirements.txt"
   ]
  },
  {
   "cell_type": "code",
   "execution_count": 6,
   "id": "a3657985",
   "metadata": {
    "execution": {
     "iopub.execute_input": "2022-06-28T13:07:14.995542Z",
     "iopub.status.busy": "2022-06-28T13:07:14.995155Z",
     "iopub.status.idle": "2022-06-28T13:07:22.336826Z",
     "shell.execute_reply": "2022-06-28T13:07:22.335816Z"
    },
    "papermill": {
     "duration": 7.352877,
     "end_time": "2022-06-28T13:07:22.338969",
     "exception": false,
     "start_time": "2022-06-28T13:07:14.986092",
     "status": "completed"
    },
    "tags": []
   },
   "outputs": [],
   "source": [
    "import wandb\n",
    "import torch\n",
    "import argparse\n",
    "import numpy as np\n",
    "from modules.tokenizers import Tokenizer\n",
    "from modules.dataloaders import R2DataLoader\n",
    "from modules.metrics import compute_scores\n",
    "from modules.optimizers import build_optimizer, build_lr_scheduler\n",
    "from modules.trainer import Trainer\n",
    "from modules.loss import compute_loss\n",
    "from models.r2gen import R2GenModel\n",
    "from modules.utils import parse_args"
   ]
  },
  {
   "cell_type": "code",
   "execution_count": 7,
   "id": "9590f6cb",
   "metadata": {
    "execution": {
     "iopub.execute_input": "2022-06-28T13:07:22.355570Z",
     "iopub.status.busy": "2022-06-28T13:07:22.355042Z",
     "iopub.status.idle": "2022-06-28T13:07:22.359724Z",
     "shell.execute_reply": "2022-06-28T13:07:22.358905Z"
    },
    "papermill": {
     "duration": 0.014695,
     "end_time": "2022-06-28T13:07:22.361348",
     "exception": false,
     "start_time": "2022-06-28T13:07:22.346653",
     "status": "completed"
    },
    "tags": []
   },
   "outputs": [],
   "source": [
    "args_str = \"\"\"\n",
    "--image_dir /kaggle/input/chestxraycaption/mimic_cxr/mimic_cxr/images \\\n",
    "--ann_path /kaggle/input/chestxraycaption/mimic_cxr/mimic_cxr/annotation.json \\\n",
    "--dataset_name mimic_cxr \\\n",
    "--max_seq_length 80 \\\n",
    "--threshold 3 \\\n",
    "--batch_size 64 \\\n",
    "--steps 12000 \\\n",
    "--eval_steps 500 \\\n",
    "--save_dir results/mimic_cxr \\\n",
    "--lr_scheduler_step_size 3000 \\\n",
    "--lr_scheduler_gamma 0.8 \\\n",
    "--visual_extractor resnet \\\n",
    "--d_vf 2048 \\\n",
    "--n_gpu 1 \\\n",
    "--logger wandb \\\n",
    "--seed 456789\n",
    "\"\"\""
   ]
  },
  {
   "cell_type": "code",
   "execution_count": 8,
   "id": "221c93d4",
   "metadata": {
    "execution": {
     "iopub.execute_input": "2022-06-28T13:07:22.377594Z",
     "iopub.status.busy": "2022-06-28T13:07:22.377129Z",
     "iopub.status.idle": "2022-06-28T13:07:22.383167Z",
     "shell.execute_reply": "2022-06-28T13:07:22.382528Z"
    },
    "papermill": {
     "duration": 0.016279,
     "end_time": "2022-06-28T13:07:22.384829",
     "exception": false,
     "start_time": "2022-06-28T13:07:22.368550",
     "status": "completed"
    },
    "tags": []
   },
   "outputs": [],
   "source": [
    "args = parse_args(args_str)"
   ]
  },
  {
   "cell_type": "code",
   "execution_count": 9,
   "id": "ef9c9da6",
   "metadata": {
    "execution": {
     "iopub.execute_input": "2022-06-28T13:07:22.400713Z",
     "iopub.status.busy": "2022-06-28T13:07:22.400073Z",
     "iopub.status.idle": "2022-06-28T13:07:29.949746Z",
     "shell.execute_reply": "2022-06-28T13:07:29.948985Z"
    },
    "papermill": {
     "duration": 7.559364,
     "end_time": "2022-06-28T13:07:29.951524",
     "exception": false,
     "start_time": "2022-06-28T13:07:22.392160",
     "status": "completed"
    },
    "tags": []
   },
   "outputs": [
    {
     "name": "stderr",
     "output_type": "stream",
     "text": [
      "\u001b[34m\u001b[1mwandb\u001b[0m: W&B API key is configured. Use \u001b[1m`wandb login --relogin`\u001b[0m to force relogin\n",
      "\u001b[34m\u001b[1mwandb\u001b[0m: \u001b[33mWARNING\u001b[0m If you're specifying your api key in code, ensure this code is not shared publicly.\n",
      "\u001b[34m\u001b[1mwandb\u001b[0m: \u001b[33mWARNING\u001b[0m Consider setting the WANDB_API_KEY environment variable, or running `wandb login` from the command line.\n",
      "\u001b[34m\u001b[1mwandb\u001b[0m: Appending key for api.wandb.ai to your netrc file: /root/.netrc\n",
      "\u001b[34m\u001b[1mwandb\u001b[0m: Currently logged in as: \u001b[33mflych3r\u001b[0m. Use \u001b[1m`wandb login --relogin`\u001b[0m to force relogin\n"
     ]
    },
    {
     "data": {
      "text/html": [
       "wandb version 0.12.19 is available!  To upgrade, please run:\n",
       " $ pip install wandb --upgrade"
      ],
      "text/plain": [
       "<IPython.core.display.HTML object>"
      ]
     },
     "metadata": {},
     "output_type": "display_data"
    },
    {
     "data": {
      "text/html": [
       "Tracking run with wandb version 0.12.16"
      ],
      "text/plain": [
       "<IPython.core.display.HTML object>"
      ]
     },
     "metadata": {},
     "output_type": "display_data"
    },
    {
     "data": {
      "text/html": [
       "Run data is saved locally in <code>/kaggle/working/R2Gen/wandb/run-20220628_130723-1jvrdhw1</code>"
      ],
      "text/plain": [
       "<IPython.core.display.HTML object>"
      ]
     },
     "metadata": {},
     "output_type": "display_data"
    },
    {
     "data": {
      "text/html": [
       "Syncing run <strong><a href=\"https://wandb.ai/flych3r/r2gen-mimic_cxr/runs/1jvrdhw1\" target=\"_blank\">daily-dream-5</a></strong> to <a href=\"https://wandb.ai/flych3r/r2gen-mimic_cxr\" target=\"_blank\">Weights & Biases</a> (<a href=\"https://wandb.me/run\" target=\"_blank\">docs</a>)<br/>"
      ],
      "text/plain": [
       "<IPython.core.display.HTML object>"
      ]
     },
     "metadata": {},
     "output_type": "display_data"
    }
   ],
   "source": [
    " import wandb\n",
    "from kaggle_secrets import UserSecretsClient\n",
    "user_secrets = UserSecretsClient()\n",
    "WANDB_KEY = user_secrets.get_secret(\"WANDB_KEY\")\n",
    "\n",
    "wandb.login(key=WANDB_KEY)\n",
    "wandb.init(project=f\"r2gen-{args.dataset_name}\")\n",
    "wandb.run.name = f'{args.visual_extractor}-{wandb.run.name}'"
   ]
  },
  {
   "cell_type": "code",
   "execution_count": 10,
   "id": "68940780",
   "metadata": {
    "execution": {
     "iopub.execute_input": "2022-06-28T13:07:29.969613Z",
     "iopub.status.busy": "2022-06-28T13:07:29.969032Z",
     "iopub.status.idle": "2022-06-28T13:07:29.976524Z",
     "shell.execute_reply": "2022-06-28T13:07:29.975844Z"
    },
    "papermill": {
     "duration": 0.018358,
     "end_time": "2022-06-28T13:07:29.978158",
     "exception": false,
     "start_time": "2022-06-28T13:07:29.959800",
     "status": "completed"
    },
    "tags": []
   },
   "outputs": [],
   "source": [
    "torch.manual_seed(args.seed)\n",
    "torch.backends.cudnn.deterministic = True\n",
    "torch.backends.cudnn.benchmark = False\n",
    "np.random.seed(args.seed)"
   ]
  },
  {
   "cell_type": "code",
   "execution_count": 11,
   "id": "c9cfab84",
   "metadata": {
    "execution": {
     "iopub.execute_input": "2022-06-28T13:07:29.997321Z",
     "iopub.status.busy": "2022-06-28T13:07:29.996607Z",
     "iopub.status.idle": "2022-06-28T13:07:51.220145Z",
     "shell.execute_reply": "2022-06-28T13:07:51.219334Z"
    },
    "papermill": {
     "duration": 21.235925,
     "end_time": "2022-06-28T13:07:51.222222",
     "exception": false,
     "start_time": "2022-06-28T13:07:29.986297",
     "status": "completed"
    },
    "tags": []
   },
   "outputs": [],
   "source": [
    "# create tokenizer\n",
    "tokenizer = Tokenizer(args)"
   ]
  },
  {
   "cell_type": "code",
   "execution_count": 12,
   "id": "4ba69335",
   "metadata": {
    "execution": {
     "iopub.execute_input": "2022-06-28T13:07:51.239990Z",
     "iopub.status.busy": "2022-06-28T13:07:51.239715Z",
     "iopub.status.idle": "2022-06-28T13:08:20.377205Z",
     "shell.execute_reply": "2022-06-28T13:08:20.376300Z"
    },
    "papermill": {
     "duration": 29.149091,
     "end_time": "2022-06-28T13:08:20.379793",
     "exception": false,
     "start_time": "2022-06-28T13:07:51.230702",
     "status": "completed"
    },
    "tags": []
   },
   "outputs": [],
   "source": [
    "# create data loader\n",
    "train_dataloader = R2DataLoader(args, tokenizer, split='train', shuffle=True)\n",
    "val_dataloader = R2DataLoader(args, tokenizer, split='val', shuffle=False)\n",
    "test_dataloader = R2DataLoader(args, tokenizer, split='test', shuffle=False)"
   ]
  },
  {
   "cell_type": "code",
   "execution_count": 13,
   "id": "055e7299",
   "metadata": {
    "execution": {
     "iopub.execute_input": "2022-06-28T13:08:20.405419Z",
     "iopub.status.busy": "2022-06-28T13:08:20.404978Z",
     "iopub.status.idle": "2022-06-28T13:08:25.872067Z",
     "shell.execute_reply": "2022-06-28T13:08:25.871215Z"
    },
    "papermill": {
     "duration": 5.484261,
     "end_time": "2022-06-28T13:08:25.874589",
     "exception": false,
     "start_time": "2022-06-28T13:08:20.390328",
     "status": "completed"
    },
    "tags": []
   },
   "outputs": [
    {
     "name": "stderr",
     "output_type": "stream",
     "text": [
      "Downloading: \"https://download.pytorch.org/models/resnet101-63fe2227.pth\" to /root/.cache/torch/hub/checkpoints/resnet101-63fe2227.pth\n"
     ]
    },
    {
     "data": {
      "application/vnd.jupyter.widget-view+json": {
       "model_id": "bf6ba9383b0e49debe7978980486ee5a",
       "version_major": 2,
       "version_minor": 0
      },
      "text/plain": [
       "  0%|          | 0.00/171M [00:00<?, ?B/s]"
      ]
     },
     "metadata": {},
     "output_type": "display_data"
    }
   ],
   "source": [
    "# build model architecture\n",
    "model = R2GenModel(args, tokenizer)"
   ]
  },
  {
   "cell_type": "code",
   "execution_count": 14,
   "id": "fb576c0e",
   "metadata": {
    "execution": {
     "iopub.execute_input": "2022-06-28T13:08:25.894444Z",
     "iopub.status.busy": "2022-06-28T13:08:25.893769Z",
     "iopub.status.idle": "2022-06-28T13:08:25.906368Z",
     "shell.execute_reply": "2022-06-28T13:08:25.905692Z"
    },
    "papermill": {
     "duration": 0.024119,
     "end_time": "2022-06-28T13:08:25.908088",
     "exception": false,
     "start_time": "2022-06-28T13:08:25.883969",
     "status": "completed"
    },
    "tags": []
   },
   "outputs": [],
   "source": [
    "# get function handles of loss and metrics\n",
    "criterion = compute_loss\n",
    "metrics = compute_scores\n",
    "\n",
    "# build optimizer, learning rate scheduler\n",
    "optimizer = build_optimizer(args, model)\n",
    "lr_scheduler = build_lr_scheduler(args, optimizer)"
   ]
  },
  {
   "cell_type": "code",
   "execution_count": 15,
   "id": "b9d7cc4c",
   "metadata": {
    "execution": {
     "iopub.execute_input": "2022-06-28T13:08:25.926111Z",
     "iopub.status.busy": "2022-06-28T13:08:25.925529Z",
     "iopub.status.idle": "2022-06-28T13:08:30.594373Z",
     "shell.execute_reply": "2022-06-28T13:08:30.593506Z"
    },
    "papermill": {
     "duration": 4.682878,
     "end_time": "2022-06-28T13:08:30.599292",
     "exception": false,
     "start_time": "2022-06-28T13:08:25.916414",
     "status": "completed"
    },
    "tags": []
   },
   "outputs": [],
   "source": [
    "# build trainer\n",
    "trainer = Trainer(model, criterion, metrics, optimizer, args, lr_scheduler, train_dataloader, val_dataloader, test_dataloader)"
   ]
  },
  {
   "cell_type": "code",
   "execution_count": 16,
   "id": "33eba7e8",
   "metadata": {
    "execution": {
     "iopub.execute_input": "2022-06-28T13:08:30.626571Z",
     "iopub.status.busy": "2022-06-28T13:08:30.626206Z",
     "iopub.status.idle": "2022-06-28T19:24:41.678602Z",
     "shell.execute_reply": "2022-06-28T19:24:41.677706Z"
    },
    "papermill": {
     "duration": 22571.069989,
     "end_time": "2022-06-28T19:24:41.680791",
     "exception": false,
     "start_time": "2022-06-28T13:08:30.610802",
     "status": "completed"
    },
    "tags": []
   },
   "outputs": [
    {
     "data": {
      "application/vnd.jupyter.widget-view+json": {
       "model_id": "5eae94e819e74fd88038b6394f3f3932",
       "version_major": 2,
       "version_minor": 0
      },
      "text/plain": [
       "  0%|          | 0/12000 [00:00<?, ?it/s]"
      ]
     },
     "metadata": {},
     "output_type": "display_data"
    },
    {
     "name": "stdout",
     "output_type": "stream",
     "text": [
      "\tstep           : 500\n",
      "\ttrain/loss     : 3.6446248626708986\n",
      "\tval/BLEU_1     : 0.2470816106794329\n",
      "\tval/BLEU_2     : 0.16667676604750184\n",
      "\tval/BLEU_3     : 0.12121476636987331\n",
      "\tval/BLEU_4     : 0.0902596682246608\n",
      "\tval/METEOR     : 0.11870144319799833\n",
      "\tval/ROUGE_L    : 0.3036614507090103\n",
      "Saving checkpoint: results/mimic_cxr/current_checkpoint.pth ...\n",
      "Saving current best: model_best.pth ...\n",
      "\tstep           : 1000\n",
      "\ttrain/loss     : 2.3568642251491547\n",
      "\tval/BLEU_1     : 0.31352685552640064\n",
      "\tval/BLEU_2     : 0.2084676537434328\n",
      "\tval/BLEU_3     : 0.14751915846324373\n",
      "\tval/BLEU_4     : 0.10912654254851817\n",
      "\tval/METEOR     : 0.13101344124612122\n",
      "\tval/ROUGE_L    : 0.3114595631264389\n",
      "Saving checkpoint: results/mimic_cxr/current_checkpoint.pth ...\n",
      "Saving current best: model_best.pth ...\n",
      "\tstep           : 1500\n",
      "\ttrain/loss     : 2.0766223075389862\n",
      "\tval/BLEU_1     : 0.3493309728364442\n",
      "\tval/BLEU_2     : 0.23210890425511418\n",
      "\tval/BLEU_3     : 0.1638417859480881\n",
      "\tval/BLEU_4     : 0.12083656626590035\n",
      "\tval/METEOR     : 0.13891749913684423\n",
      "\tval/ROUGE_L    : 0.3131222816999529\n",
      "Saving checkpoint: results/mimic_cxr/current_checkpoint.pth ...\n",
      "Saving current best: model_best.pth ...\n",
      "\tstep           : 2000\n",
      "\ttrain/loss     : 1.924292109489441\n",
      "\tval/BLEU_1     : 0.29458236981923064\n",
      "\tval/BLEU_2     : 0.19812783837859677\n",
      "\tval/BLEU_3     : 0.1415160015849303\n",
      "\tval/BLEU_4     : 0.10570362816112751\n",
      "\tval/METEOR     : 0.12550240171388538\n",
      "\tval/ROUGE_L    : 0.2988971736239415\n",
      "Saving checkpoint: results/mimic_cxr/current_checkpoint.pth ...\n",
      "\tstep           : 2500\n",
      "\ttrain/loss     : 1.8242365317344666\n",
      "\tval/BLEU_1     : 0.33732656554097995\n",
      "\tval/BLEU_2     : 0.22376646054544594\n",
      "\tval/BLEU_3     : 0.15675156551369201\n",
      "\tval/BLEU_4     : 0.11462419978657802\n",
      "\tval/METEOR     : 0.13670181856416164\n",
      "\tval/ROUGE_L    : 0.3062869494822469\n",
      "Saving checkpoint: results/mimic_cxr/current_checkpoint.pth ...\n",
      "\tstep           : 3000\n",
      "\ttrain/loss     : 1.7571979331970216\n",
      "\tval/BLEU_1     : 0.3440705557225902\n",
      "\tval/BLEU_2     : 0.22777876727133997\n",
      "\tval/BLEU_3     : 0.15975592099623495\n",
      "\tval/BLEU_4     : 0.11709786536255488\n",
      "\tval/METEOR     : 0.13729313357093736\n",
      "\tval/ROUGE_L    : 0.3048678161438074\n",
      "Saving checkpoint: results/mimic_cxr/current_checkpoint.pth ...\n",
      "\tstep           : 3500\n",
      "\ttrain/loss     : 1.7160778958797456\n",
      "\tval/BLEU_1     : 0.3571426994416728\n",
      "\tval/BLEU_2     : 0.23599250325657867\n",
      "\tval/BLEU_3     : 0.1663229697219644\n",
      "\tval/BLEU_4     : 0.12330922568696619\n",
      "\tval/METEOR     : 0.1438469100746281\n",
      "\tval/ROUGE_L    : 0.3140858083260681\n",
      "Saving checkpoint: results/mimic_cxr/current_checkpoint.pth ...\n",
      "Saving current best: model_best.pth ...\n",
      "\tstep           : 4000\n",
      "\ttrain/loss     : 1.6744693937301636\n",
      "\tval/BLEU_1     : 0.33336386751734837\n",
      "\tval/BLEU_2     : 0.21897801852141163\n",
      "\tval/BLEU_3     : 0.15455054423038467\n",
      "\tval/BLEU_4     : 0.11533540073078019\n",
      "\tval/METEOR     : 0.13974818591647048\n",
      "\tval/ROUGE_L    : 0.31481208786170783\n",
      "Saving checkpoint: results/mimic_cxr/current_checkpoint.pth ...\n",
      "\tstep           : 4500\n",
      "\ttrain/loss     : 1.6413479783535003\n",
      "\tval/BLEU_1     : 0.35664657543040057\n",
      "\tval/BLEU_2     : 0.23602876828171923\n",
      "\tval/BLEU_3     : 0.16568796587844556\n",
      "\tval/BLEU_4     : 0.12186667143779506\n",
      "\tval/METEOR     : 0.1425286465816659\n",
      "\tval/ROUGE_L    : 0.3110148858411707\n",
      "Saving checkpoint: results/mimic_cxr/current_checkpoint.pth ...\n",
      "\tstep           : 5000\n",
      "\ttrain/loss     : 1.6069792063236237\n",
      "\tval/BLEU_1     : 0.3519859360346286\n",
      "\tval/BLEU_2     : 0.23167280250927821\n",
      "\tval/BLEU_3     : 0.16293271183404823\n",
      "\tval/BLEU_4     : 0.12118469935553804\n",
      "\tval/METEOR     : 0.1411883450021101\n",
      "\tval/ROUGE_L    : 0.3112126591042912\n",
      "Saving checkpoint: results/mimic_cxr/current_checkpoint.pth ...\n",
      "\tstep           : 5500\n",
      "\ttrain/loss     : 1.594520744085312\n",
      "\tval/BLEU_1     : 0.3690961281873907\n",
      "\tval/BLEU_2     : 0.24367867945788715\n",
      "\tval/BLEU_3     : 0.17092145057544392\n",
      "\tval/BLEU_4     : 0.1253569806821807\n",
      "\tval/METEOR     : 0.14546894412924602\n",
      "\tval/ROUGE_L    : 0.31125480627605273\n",
      "Saving checkpoint: results/mimic_cxr/current_checkpoint.pth ...\n",
      "Saving current best: model_best.pth ...\n",
      "\tstep           : 6000\n",
      "\ttrain/loss     : 1.5786738846302033\n",
      "\tval/BLEU_1     : 0.3556861292365658\n",
      "\tval/BLEU_2     : 0.23375276642592005\n",
      "\tval/BLEU_3     : 0.1637391017537348\n",
      "\tval/BLEU_4     : 0.12041239988530945\n",
      "\tval/METEOR     : 0.142426101937672\n",
      "\tval/ROUGE_L    : 0.31032612566335677\n",
      "Saving checkpoint: results/mimic_cxr/current_checkpoint.pth ...\n",
      "\tstep           : 6500\n",
      "\ttrain/loss     : 1.5513358538150788\n",
      "\tval/BLEU_1     : 0.33450080779080205\n",
      "\tval/BLEU_2     : 0.21902296929172702\n",
      "\tval/BLEU_3     : 0.15390210157450485\n",
      "\tval/BLEU_4     : 0.1141288914136793\n",
      "\tval/METEOR     : 0.13717560794882305\n",
      "\tval/ROUGE_L    : 0.30528899090633943\n",
      "Saving checkpoint: results/mimic_cxr/current_checkpoint.pth ...\n",
      "\tstep           : 7000\n",
      "\ttrain/loss     : 1.5480119137763977\n",
      "\tval/BLEU_1     : 0.34701869135580254\n",
      "\tval/BLEU_2     : 0.22836854947882987\n",
      "\tval/BLEU_3     : 0.16075262492791811\n",
      "\tval/BLEU_4     : 0.11942891262571177\n",
      "\tval/METEOR     : 0.1413796653982201\n",
      "\tval/ROUGE_L    : 0.31111091719967676\n",
      "Saving checkpoint: results/mimic_cxr/current_checkpoint.pth ...\n",
      "\tstep           : 7500\n",
      "\ttrain/loss     : 1.530543442249298\n",
      "\tval/BLEU_1     : 0.33927173441864233\n",
      "\tval/BLEU_2     : 0.22357760973026064\n",
      "\tval/BLEU_3     : 0.15766155612266536\n",
      "\tval/BLEU_4     : 0.1173464602981317\n",
      "\tval/METEOR     : 0.14176951714145783\n",
      "\tval/ROUGE_L    : 0.3167006572455693\n",
      "Saving checkpoint: results/mimic_cxr/current_checkpoint.pth ...\n",
      "\tstep           : 8000\n",
      "\ttrain/loss     : 1.524371339559555\n",
      "\tval/BLEU_1     : 0.329291994904848\n",
      "\tval/BLEU_2     : 0.21674029261958813\n",
      "\tval/BLEU_3     : 0.15272002954358252\n",
      "\tval/BLEU_4     : 0.11361537636591258\n",
      "\tval/METEOR     : 0.13538985227001823\n",
      "\tval/ROUGE_L    : 0.3130502049107432\n",
      "Saving checkpoint: results/mimic_cxr/current_checkpoint.pth ...\n",
      "\tstep           : 8500\n",
      "\ttrain/loss     : 1.5127521078586579\n",
      "\tval/BLEU_1     : 0.3618809215302751\n",
      "\tval/BLEU_2     : 0.23935016748571808\n",
      "\tval/BLEU_3     : 0.16933111370992973\n",
      "\tval/BLEU_4     : 0.12629256824578122\n",
      "\tval/METEOR     : 0.14621260366978\n",
      "\tval/ROUGE_L    : 0.31461191623738566\n",
      "Saving checkpoint: results/mimic_cxr/current_checkpoint.pth ...\n",
      "Saving current best: model_best.pth ...\n",
      "\tstep           : 9000\n",
      "\ttrain/loss     : 1.49235129904747\n",
      "\tval/BLEU_1     : 0.3616283112953905\n",
      "\tval/BLEU_2     : 0.2362334570559586\n",
      "\tval/BLEU_3     : 0.1655949847867141\n",
      "\tval/BLEU_4     : 0.12229590093099528\n",
      "\tval/METEOR     : 0.14446833566347403\n",
      "\tval/ROUGE_L    : 0.31136898624481063\n",
      "Saving checkpoint: results/mimic_cxr/current_checkpoint.pth ...\n",
      "\tstep           : 9500\n",
      "\ttrain/loss     : 1.472152488708496\n",
      "\tval/BLEU_1     : 0.36269416251654735\n",
      "\tval/BLEU_2     : 0.23846339470797132\n",
      "\tval/BLEU_3     : 0.1674178189283306\n",
      "\tval/BLEU_4     : 0.12346675966026438\n",
      "\tval/METEOR     : 0.14434511384105492\n",
      "\tval/ROUGE_L    : 0.31127161944321863\n",
      "Saving checkpoint: results/mimic_cxr/current_checkpoint.pth ...\n",
      "\tstep           : 10000\n",
      "\ttrain/loss     : 1.4768185167312622\n",
      "\tval/BLEU_1     : 0.3399658806412862\n",
      "\tval/BLEU_2     : 0.2231357781125864\n",
      "\tval/BLEU_3     : 0.15690213512670578\n",
      "\tval/BLEU_4     : 0.11643253802099547\n",
      "\tval/METEOR     : 0.14009942840619705\n",
      "\tval/ROUGE_L    : 0.3079511484785746\n",
      "Saving checkpoint: results/mimic_cxr/current_checkpoint.pth ...\n",
      "\tstep           : 10500\n",
      "\ttrain/loss     : 1.4696238355636597\n",
      "\tval/BLEU_1     : 0.35230357749857855\n",
      "\tval/BLEU_2     : 0.2321225135807607\n",
      "\tval/BLEU_3     : 0.16380981557911564\n",
      "\tval/BLEU_4     : 0.12125000176971354\n",
      "\tval/METEOR     : 0.14259706445132994\n",
      "\tval/ROUGE_L    : 0.31001670083130367\n",
      "Saving checkpoint: results/mimic_cxr/current_checkpoint.pth ...\n",
      "\tstep           : 11000\n",
      "\ttrain/loss     : 1.4598450486660004\n",
      "\tval/BLEU_1     : 0.3461197799810216\n",
      "\tval/BLEU_2     : 0.22712796269191024\n",
      "\tval/BLEU_3     : 0.15992421812088586\n",
      "\tval/BLEU_4     : 0.11868611985930817\n",
      "\tval/METEOR     : 0.14017372093590158\n",
      "\tval/ROUGE_L    : 0.3084627023149092\n",
      "Saving checkpoint: results/mimic_cxr/current_checkpoint.pth ...\n",
      "\tstep           : 11500\n",
      "\ttrain/loss     : 1.4605020594596863\n",
      "\tval/BLEU_1     : 0.35611063088112255\n",
      "\tval/BLEU_2     : 0.23293108759605496\n",
      "\tval/BLEU_3     : 0.1629354002845553\n",
      "\tval/BLEU_4     : 0.1205003535032779\n",
      "\tval/METEOR     : 0.14141557984536027\n",
      "\tval/ROUGE_L    : 0.3092556492483136\n",
      "Saving checkpoint: results/mimic_cxr/current_checkpoint.pth ...\n",
      "Validation performance didn't improve for 5 steps. Training stops.\n",
      "\tstep           : 12000\n",
      "\ttrain/loss     : 1.4387416582107544\n",
      "\tval/BLEU_1     : 0.35247099278096283\n",
      "\tval/BLEU_2     : 0.22968024863702988\n",
      "\tval/BLEU_3     : 0.1600062449012603\n",
      "\tval/BLEU_4     : 0.11769387478985155\n",
      "\tval/METEOR     : 0.14113741117228074\n",
      "\tval/ROUGE_L    : 0.3057542251560172\n",
      "Saving checkpoint: results/mimic_cxr/current_checkpoint.pth ...\n",
      "Validation performance didn't improve for 5 steps. Training stops.\n",
      "Best results (w.r.t BLEU_4) in validation set:\n",
      "\tval/BLEU_4     : 0.12629256824578122\n",
      "\tstep           : 8500\n",
      "\ttrain/loss     : 1.5127521078586579\n",
      "\tval/BLEU_1     : 0.3618809215302751\n",
      "\tval/BLEU_2     : 0.23935016748571808\n",
      "\tval/BLEU_3     : 0.16933111370992973\n",
      "\tval/METEOR     : 0.14621260366978\n",
      "\tval/ROUGE_L    : 0.31461191623738566\n"
     ]
    }
   ],
   "source": [
    "# start to train\n",
    "trainer.train()"
   ]
  },
  {
   "cell_type": "code",
   "execution_count": 17,
   "id": "a03e4486",
   "metadata": {
    "execution": {
     "iopub.execute_input": "2022-06-28T19:24:41.707498Z",
     "iopub.status.busy": "2022-06-28T19:24:41.706746Z",
     "iopub.status.idle": "2022-06-28T19:36:25.814694Z",
     "shell.execute_reply": "2022-06-28T19:36:25.813563Z"
    },
    "papermill": {
     "duration": 704.123476,
     "end_time": "2022-06-28T19:36:25.817040",
     "exception": false,
     "start_time": "2022-06-28T19:24:41.693564",
     "status": "completed"
    },
    "tags": []
   },
   "outputs": [
    {
     "data": {
      "application/vnd.jupyter.widget-view+json": {
       "model_id": "236f93d0d9a9404f8e06613a2fbfd039",
       "version_major": 2,
       "version_minor": 0
      },
      "text/plain": [
       "  0%|          | 0/61 [00:00<?, ?it/s]"
      ]
     },
     "metadata": {},
     "output_type": "display_data"
    },
    {
     "name": "stdout",
     "output_type": "stream",
     "text": [
      "\tBLEU_1         : 0.312483526526434\n",
      "\tBLEU_2         : 0.196094869418219\n",
      "\tBLEU_3         : 0.13368263377080505\n",
      "\tBLEU_4         : 0.0966714134192661\n",
      "\tMETEOR         : 0.1261906316225447\n",
      "\tROUGE_L        : 0.2724552868843175\n"
     ]
    }
   ],
   "source": [
    "# test model on test set\n",
    "trainer.test()"
   ]
  },
  {
   "cell_type": "code",
   "execution_count": 18,
   "id": "aabb44ba",
   "metadata": {
    "execution": {
     "iopub.execute_input": "2022-06-28T19:36:25.847342Z",
     "iopub.status.busy": "2022-06-28T19:36:25.846500Z",
     "iopub.status.idle": "2022-06-28T19:36:40.642103Z",
     "shell.execute_reply": "2022-06-28T19:36:40.641304Z"
    },
    "papermill": {
     "duration": 14.812634,
     "end_time": "2022-06-28T19:36:40.643967",
     "exception": false,
     "start_time": "2022-06-28T19:36:25.831333",
     "status": "completed"
    },
    "tags": []
   },
   "outputs": [
    {
     "data": {
      "text/html": [
       "Waiting for W&B process to finish... <strong style=\"color:green\">(success).</strong>"
      ],
      "text/plain": [
       "<IPython.core.display.HTML object>"
      ]
     },
     "metadata": {},
     "output_type": "display_data"
    },
    {
     "data": {
      "application/vnd.jupyter.widget-view+json": {
       "model_id": "1a9ce1cb731f43eebd1dde618497d9e7",
       "version_major": 2,
       "version_minor": 0
      },
      "text/plain": [
       "VBox(children=(Label(value='1327.137 MB of 1327.137 MB uploaded (0.000 MB deduped)\\r'), FloatProgress(value=1.…"
      ]
     },
     "metadata": {},
     "output_type": "display_data"
    },
    {
     "data": {
      "text/html": [
       "<style>\n",
       "    table.wandb td:nth-child(1) { padding: 0 10px; text-align: left ; width: auto;} td:nth-child(2) {text-align: left ; width: 100%}\n",
       "    .wandb-row { display: flex; flex-direction: row; flex-wrap: wrap; justify-content: flex-start; width: 100% }\n",
       "    .wandb-col { display: flex; flex-direction: column; flex-basis: 100%; flex: 1; padding: 10px; }\n",
       "    </style>\n",
       "<div class=\"wandb-row\"><div class=\"wandb-col\"><h3>Run history:</h3><br/><table class=\"wandb\"><tr><td>train/loss</td><td>█▄▃▃▂▂▂▂▂▂▁▁▁▁▁▁▁▁▁▁▁▁▁▁</td></tr><tr><td>val/BLEU_1</td><td>▁▅▇▄▆▇▇▆▇▇█▇▆▇▆▆███▆▇▇▇▇</td></tr><tr><td>val/BLEU_2</td><td>▁▅▇▄▆▇▇▆▇▇█▇▆▇▆▆█▇█▆▇▆▇▇</td></tr><tr><td>val/BLEU_3</td><td>▁▅▇▄▆▆▇▆▇▇█▇▆▇▆▅█▇█▆▇▆▇▆</td></tr><tr><td>val/BLEU_4</td><td>▁▅▇▄▆▆▇▆▇▇█▇▆▇▆▆█▇▇▆▇▇▇▆</td></tr><tr><td>val/METEOR</td><td>▁▄▆▃▆▆▇▆▇▇█▇▆▇▇▅███▆▇▆▇▇</td></tr><tr><td>val/ROUGE_L</td><td>▃▆▇▁▄▃▇▇▆▆▆▅▄▆█▇▇▆▆▅▅▅▅▄</td></tr></table><br/></div><div class=\"wandb-col\"><h3>Run summary:</h3><br/><table class=\"wandb\"><tr><td>train/loss</td><td>1.43874</td></tr><tr><td>val/BLEU_1</td><td>0.35247</td></tr><tr><td>val/BLEU_2</td><td>0.22968</td></tr><tr><td>val/BLEU_3</td><td>0.16001</td></tr><tr><td>val/BLEU_4</td><td>0.11769</td></tr><tr><td>val/METEOR</td><td>0.14114</td></tr><tr><td>val/ROUGE_L</td><td>0.30575</td></tr></table><br/></div></div>"
      ],
      "text/plain": [
       "<IPython.core.display.HTML object>"
      ]
     },
     "metadata": {},
     "output_type": "display_data"
    },
    {
     "data": {
      "text/html": [
       "Synced <strong style=\"color:#cdcd00\">daily-dream-5</strong>: <a href=\"https://wandb.ai/flych3r/r2gen-mimic_cxr/runs/1jvrdhw1\" target=\"_blank\">https://wandb.ai/flych3r/r2gen-mimic_cxr/runs/1jvrdhw1</a><br/>Synced 5 W&B file(s), 1 media file(s), 3 artifact file(s) and 0 other file(s)"
      ],
      "text/plain": [
       "<IPython.core.display.HTML object>"
      ]
     },
     "metadata": {},
     "output_type": "display_data"
    },
    {
     "data": {
      "text/html": [
       "Find logs at: <code>./wandb/run-20220628_130723-1jvrdhw1/logs</code>"
      ],
      "text/plain": [
       "<IPython.core.display.HTML object>"
      ]
     },
     "metadata": {},
     "output_type": "display_data"
    }
   ],
   "source": [
    "wandb.finish()"
   ]
  }
 ],
 "metadata": {
  "kernelspec": {
   "display_name": "Python 3",
   "language": "python",
   "name": "python3"
  },
  "language_info": {
   "codemirror_mode": {
    "name": "ipython",
    "version": 3
   },
   "file_extension": ".py",
   "mimetype": "text/x-python",
   "name": "python",
   "nbconvert_exporter": "python",
   "pygments_lexer": "ipython3",
   "version": "3.7.12"
  },
  "papermill": {
   "default_parameters": {},
   "duration": 23412.536409,
   "end_time": "2022-06-28T19:36:43.519917",
   "environment_variables": {},
   "exception": null,
   "input_path": "__notebook__.ipynb",
   "output_path": "__notebook__.ipynb",
   "parameters": {},
   "start_time": "2022-06-28T13:06:30.983508",
   "version": "2.3.4"
  },
  "widgets": {
   "application/vnd.jupyter.widget-state+json": {
    "state": {
     "041e4b19aae140c69dde94c9f51122bb": {
      "model_module": "@jupyter-widgets/base",
      "model_module_version": "1.2.0",
      "model_name": "LayoutModel",
      "state": {
       "_model_module": "@jupyter-widgets/base",
       "_model_module_version": "1.2.0",
       "_model_name": "LayoutModel",
       "_view_count": null,
       "_view_module": "@jupyter-widgets/base",
       "_view_module_version": "1.2.0",
       "_view_name": "LayoutView",
       "align_content": null,
       "align_items": null,
       "align_self": null,
       "border": null,
       "bottom": null,
       "display": null,
       "flex": null,
       "flex_flow": null,
       "grid_area": null,
       "grid_auto_columns": null,
       "grid_auto_flow": null,
       "grid_auto_rows": null,
       "grid_column": null,
       "grid_gap": null,
       "grid_row": null,
       "grid_template_areas": null,
       "grid_template_columns": null,
       "grid_template_rows": null,
       "height": null,
       "justify_content": null,
       "justify_items": null,
       "left": null,
       "margin": null,
       "max_height": null,
       "max_width": null,
       "min_height": null,
       "min_width": null,
       "object_fit": null,
       "object_position": null,
       "order": null,
       "overflow": null,
       "overflow_x": null,
       "overflow_y": null,
       "padding": null,
       "right": null,
       "top": null,
       "visibility": null,
       "width": null
      }
     },
     "06e0b17294264f59b37009d26853def2": {
      "model_module": "@jupyter-widgets/base",
      "model_module_version": "1.2.0",
      "model_name": "LayoutModel",
      "state": {
       "_model_module": "@jupyter-widgets/base",
       "_model_module_version": "1.2.0",
       "_model_name": "LayoutModel",
       "_view_count": null,
       "_view_module": "@jupyter-widgets/base",
       "_view_module_version": "1.2.0",
       "_view_name": "LayoutView",
       "align_content": null,
       "align_items": null,
       "align_self": null,
       "border": null,
       "bottom": null,
       "display": null,
       "flex": null,
       "flex_flow": null,
       "grid_area": null,
       "grid_auto_columns": null,
       "grid_auto_flow": null,
       "grid_auto_rows": null,
       "grid_column": null,
       "grid_gap": null,
       "grid_row": null,
       "grid_template_areas": null,
       "grid_template_columns": null,
       "grid_template_rows": null,
       "height": null,
       "justify_content": null,
       "justify_items": null,
       "left": null,
       "margin": null,
       "max_height": null,
       "max_width": null,
       "min_height": null,
       "min_width": null,
       "object_fit": null,
       "object_position": null,
       "order": null,
       "overflow": null,
       "overflow_x": null,
       "overflow_y": null,
       "padding": null,
       "right": null,
       "top": null,
       "visibility": null,
       "width": null
      }
     },
     "089ece73f8d64cb9aa8753e9b90f9bd4": {
      "model_module": "@jupyter-widgets/controls",
      "model_module_version": "1.5.0",
      "model_name": "HTMLModel",
      "state": {
       "_dom_classes": [],
       "_model_module": "@jupyter-widgets/controls",
       "_model_module_version": "1.5.0",
       "_model_name": "HTMLModel",
       "_view_count": null,
       "_view_module": "@jupyter-widgets/controls",
       "_view_module_version": "1.5.0",
       "_view_name": "HTMLView",
       "description": "",
       "description_tooltip": null,
       "layout": "IPY_MODEL_26b33ba28b6849fd8d5c2211c59d8339",
       "placeholder": "​",
       "style": "IPY_MODEL_d4a03386f3e34997bfd6fdc2d30f971a",
       "value": "100%"
      }
     },
     "0c0e5b99388a48a6b95208c3130821d6": {
      "model_module": "@jupyter-widgets/controls",
      "model_module_version": "1.5.0",
      "model_name": "HTMLModel",
      "state": {
       "_dom_classes": [],
       "_model_module": "@jupyter-widgets/controls",
       "_model_module_version": "1.5.0",
       "_model_name": "HTMLModel",
       "_view_count": null,
       "_view_module": "@jupyter-widgets/controls",
       "_view_module_version": "1.5.0",
       "_view_name": "HTMLView",
       "description": "",
       "description_tooltip": null,
       "layout": "IPY_MODEL_c3f799d19e3749658564d69244afcf4e",
       "placeholder": "​",
       "style": "IPY_MODEL_681f38b6a2db456fbadb4687157698de",
       "value": " 61/61 [10:58&lt;00:00,  9.06s/it]"
      }
     },
     "1a9ce1cb731f43eebd1dde618497d9e7": {
      "model_module": "@jupyter-widgets/controls",
      "model_module_version": "1.5.0",
      "model_name": "VBoxModel",
      "state": {
       "_dom_classes": [],
       "_model_module": "@jupyter-widgets/controls",
       "_model_module_version": "1.5.0",
       "_model_name": "VBoxModel",
       "_view_count": null,
       "_view_module": "@jupyter-widgets/controls",
       "_view_module_version": "1.5.0",
       "_view_name": "VBoxView",
       "box_style": "",
       "children": [
        "IPY_MODEL_1db5adb4b5924928ab6b2c6215d24297",
        "IPY_MODEL_453492f3839c4733be03681809ec1465"
       ],
       "layout": "IPY_MODEL_ce3b4d4068984aa086e0e8e24ed401d0"
      }
     },
     "1db5adb4b5924928ab6b2c6215d24297": {
      "model_module": "@jupyter-widgets/controls",
      "model_module_version": "1.5.0",
      "model_name": "LabelModel",
      "state": {
       "_dom_classes": [],
       "_model_module": "@jupyter-widgets/controls",
       "_model_module_version": "1.5.0",
       "_model_name": "LabelModel",
       "_view_count": null,
       "_view_module": "@jupyter-widgets/controls",
       "_view_module_version": "1.5.0",
       "_view_name": "LabelView",
       "description": "",
       "description_tooltip": null,
       "layout": "IPY_MODEL_7daba7f782184e948f25e17c830c52ba",
       "placeholder": "​",
       "style": "IPY_MODEL_fea244ac714641f7b8ef84d0a5c16158",
       "value": "1327.161 MB of 1327.161 MB uploaded (0.000 MB deduped)\r"
      }
     },
     "236f93d0d9a9404f8e06613a2fbfd039": {
      "model_module": "@jupyter-widgets/controls",
      "model_module_version": "1.5.0",
      "model_name": "HBoxModel",
      "state": {
       "_dom_classes": [],
       "_model_module": "@jupyter-widgets/controls",
       "_model_module_version": "1.5.0",
       "_model_name": "HBoxModel",
       "_view_count": null,
       "_view_module": "@jupyter-widgets/controls",
       "_view_module_version": "1.5.0",
       "_view_name": "HBoxView",
       "box_style": "",
       "children": [
        "IPY_MODEL_561ccdff6e144c808a53f1741e9953fe",
        "IPY_MODEL_355da437a65d424caa438c7867499c94",
        "IPY_MODEL_0c0e5b99388a48a6b95208c3130821d6"
       ],
       "layout": "IPY_MODEL_06e0b17294264f59b37009d26853def2"
      }
     },
     "26b33ba28b6849fd8d5c2211c59d8339": {
      "model_module": "@jupyter-widgets/base",
      "model_module_version": "1.2.0",
      "model_name": "LayoutModel",
      "state": {
       "_model_module": "@jupyter-widgets/base",
       "_model_module_version": "1.2.0",
       "_model_name": "LayoutModel",
       "_view_count": null,
       "_view_module": "@jupyter-widgets/base",
       "_view_module_version": "1.2.0",
       "_view_name": "LayoutView",
       "align_content": null,
       "align_items": null,
       "align_self": null,
       "border": null,
       "bottom": null,
       "display": null,
       "flex": null,
       "flex_flow": null,
       "grid_area": null,
       "grid_auto_columns": null,
       "grid_auto_flow": null,
       "grid_auto_rows": null,
       "grid_column": null,
       "grid_gap": null,
       "grid_row": null,
       "grid_template_areas": null,
       "grid_template_columns": null,
       "grid_template_rows": null,
       "height": null,
       "justify_content": null,
       "justify_items": null,
       "left": null,
       "margin": null,
       "max_height": null,
       "max_width": null,
       "min_height": null,
       "min_width": null,
       "object_fit": null,
       "object_position": null,
       "order": null,
       "overflow": null,
       "overflow_x": null,
       "overflow_y": null,
       "padding": null,
       "right": null,
       "top": null,
       "visibility": null,
       "width": null
      }
     },
     "355da437a65d424caa438c7867499c94": {
      "model_module": "@jupyter-widgets/controls",
      "model_module_version": "1.5.0",
      "model_name": "FloatProgressModel",
      "state": {
       "_dom_classes": [],
       "_model_module": "@jupyter-widgets/controls",
       "_model_module_version": "1.5.0",
       "_model_name": "FloatProgressModel",
       "_view_count": null,
       "_view_module": "@jupyter-widgets/controls",
       "_view_module_version": "1.5.0",
       "_view_name": "ProgressView",
       "bar_style": "success",
       "description": "",
       "description_tooltip": null,
       "layout": "IPY_MODEL_faba337314774e6ea78d99585f32169e",
       "max": 61.0,
       "min": 0.0,
       "orientation": "horizontal",
       "style": "IPY_MODEL_cf65d607ef344cb9be35f602c2b7b146",
       "value": 61.0
      }
     },
     "365752d0e2af4b27aaaae3741c6487e7": {
      "model_module": "@jupyter-widgets/base",
      "model_module_version": "1.2.0",
      "model_name": "LayoutModel",
      "state": {
       "_model_module": "@jupyter-widgets/base",
       "_model_module_version": "1.2.0",
       "_model_name": "LayoutModel",
       "_view_count": null,
       "_view_module": "@jupyter-widgets/base",
       "_view_module_version": "1.2.0",
       "_view_name": "LayoutView",
       "align_content": null,
       "align_items": null,
       "align_self": null,
       "border": null,
       "bottom": null,
       "display": null,
       "flex": null,
       "flex_flow": null,
       "grid_area": null,
       "grid_auto_columns": null,
       "grid_auto_flow": null,
       "grid_auto_rows": null,
       "grid_column": null,
       "grid_gap": null,
       "grid_row": null,
       "grid_template_areas": null,
       "grid_template_columns": null,
       "grid_template_rows": null,
       "height": null,
       "justify_content": null,
       "justify_items": null,
       "left": null,
       "margin": null,
       "max_height": null,
       "max_width": null,
       "min_height": null,
       "min_width": null,
       "object_fit": null,
       "object_position": null,
       "order": null,
       "overflow": null,
       "overflow_x": null,
       "overflow_y": null,
       "padding": null,
       "right": null,
       "top": null,
       "visibility": null,
       "width": null
      }
     },
     "37bb8cadfd9546a8bc609c8872fc1feb": {
      "model_module": "@jupyter-widgets/controls",
      "model_module_version": "1.5.0",
      "model_name": "HTMLModel",
      "state": {
       "_dom_classes": [],
       "_model_module": "@jupyter-widgets/controls",
       "_model_module_version": "1.5.0",
       "_model_name": "HTMLModel",
       "_view_count": null,
       "_view_module": "@jupyter-widgets/controls",
       "_view_module_version": "1.5.0",
       "_view_name": "HTMLView",
       "description": "",
       "description_tooltip": null,
       "layout": "IPY_MODEL_a581367a715d4f7b86a2d971718cfccd",
       "placeholder": "​",
       "style": "IPY_MODEL_5a7f259a61fe46f091dfbeb4d3773f57",
       "value": " 171M/171M [00:03&lt;00:00, 52.7MB/s]"
      }
     },
     "44abf0caf3a84f64ad5db6f269cd3e27": {
      "model_module": "@jupyter-widgets/base",
      "model_module_version": "1.2.0",
      "model_name": "LayoutModel",
      "state": {
       "_model_module": "@jupyter-widgets/base",
       "_model_module_version": "1.2.0",
       "_model_name": "LayoutModel",
       "_view_count": null,
       "_view_module": "@jupyter-widgets/base",
       "_view_module_version": "1.2.0",
       "_view_name": "LayoutView",
       "align_content": null,
       "align_items": null,
       "align_self": null,
       "border": null,
       "bottom": null,
       "display": null,
       "flex": null,
       "flex_flow": null,
       "grid_area": null,
       "grid_auto_columns": null,
       "grid_auto_flow": null,
       "grid_auto_rows": null,
       "grid_column": null,
       "grid_gap": null,
       "grid_row": null,
       "grid_template_areas": null,
       "grid_template_columns": null,
       "grid_template_rows": null,
       "height": null,
       "justify_content": null,
       "justify_items": null,
       "left": null,
       "margin": null,
       "max_height": null,
       "max_width": null,
       "min_height": null,
       "min_width": null,
       "object_fit": null,
       "object_position": null,
       "order": null,
       "overflow": null,
       "overflow_x": null,
       "overflow_y": null,
       "padding": null,
       "right": null,
       "top": null,
       "visibility": null,
       "width": null
      }
     },
     "453492f3839c4733be03681809ec1465": {
      "model_module": "@jupyter-widgets/controls",
      "model_module_version": "1.5.0",
      "model_name": "FloatProgressModel",
      "state": {
       "_dom_classes": [],
       "_model_module": "@jupyter-widgets/controls",
       "_model_module_version": "1.5.0",
       "_model_name": "FloatProgressModel",
       "_view_count": null,
       "_view_module": "@jupyter-widgets/controls",
       "_view_module_version": "1.5.0",
       "_view_name": "ProgressView",
       "bar_style": "",
       "description": "",
       "description_tooltip": null,
       "layout": "IPY_MODEL_5372bc063ea24df68ea56f8780b5083f",
       "max": 1.0,
       "min": 0.0,
       "orientation": "horizontal",
       "style": "IPY_MODEL_9affd6a802d94c909769dd67a2f26bf5",
       "value": 1.0
      }
     },
     "45514e2eb0804e52a729086bc6241650": {
      "model_module": "@jupyter-widgets/base",
      "model_module_version": "1.2.0",
      "model_name": "LayoutModel",
      "state": {
       "_model_module": "@jupyter-widgets/base",
       "_model_module_version": "1.2.0",
       "_model_name": "LayoutModel",
       "_view_count": null,
       "_view_module": "@jupyter-widgets/base",
       "_view_module_version": "1.2.0",
       "_view_name": "LayoutView",
       "align_content": null,
       "align_items": null,
       "align_self": null,
       "border": null,
       "bottom": null,
       "display": null,
       "flex": null,
       "flex_flow": null,
       "grid_area": null,
       "grid_auto_columns": null,
       "grid_auto_flow": null,
       "grid_auto_rows": null,
       "grid_column": null,
       "grid_gap": null,
       "grid_row": null,
       "grid_template_areas": null,
       "grid_template_columns": null,
       "grid_template_rows": null,
       "height": null,
       "justify_content": null,
       "justify_items": null,
       "left": null,
       "margin": null,
       "max_height": null,
       "max_width": null,
       "min_height": null,
       "min_width": null,
       "object_fit": null,
       "object_position": null,
       "order": null,
       "overflow": null,
       "overflow_x": null,
       "overflow_y": null,
       "padding": null,
       "right": null,
       "top": null,
       "visibility": null,
       "width": null
      }
     },
     "4fc07adf1b354bb7b1851e2d3a5e6b07": {
      "model_module": "@jupyter-widgets/base",
      "model_module_version": "1.2.0",
      "model_name": "LayoutModel",
      "state": {
       "_model_module": "@jupyter-widgets/base",
       "_model_module_version": "1.2.0",
       "_model_name": "LayoutModel",
       "_view_count": null,
       "_view_module": "@jupyter-widgets/base",
       "_view_module_version": "1.2.0",
       "_view_name": "LayoutView",
       "align_content": null,
       "align_items": null,
       "align_self": null,
       "border": null,
       "bottom": null,
       "display": null,
       "flex": null,
       "flex_flow": null,
       "grid_area": null,
       "grid_auto_columns": null,
       "grid_auto_flow": null,
       "grid_auto_rows": null,
       "grid_column": null,
       "grid_gap": null,
       "grid_row": null,
       "grid_template_areas": null,
       "grid_template_columns": null,
       "grid_template_rows": null,
       "height": null,
       "justify_content": null,
       "justify_items": null,
       "left": null,
       "margin": null,
       "max_height": null,
       "max_width": null,
       "min_height": null,
       "min_width": null,
       "object_fit": null,
       "object_position": null,
       "order": null,
       "overflow": null,
       "overflow_x": null,
       "overflow_y": null,
       "padding": null,
       "right": null,
       "top": null,
       "visibility": null,
       "width": null
      }
     },
     "53228335a05941049fc070fdce0a904b": {
      "model_module": "@jupyter-widgets/base",
      "model_module_version": "1.2.0",
      "model_name": "LayoutModel",
      "state": {
       "_model_module": "@jupyter-widgets/base",
       "_model_module_version": "1.2.0",
       "_model_name": "LayoutModel",
       "_view_count": null,
       "_view_module": "@jupyter-widgets/base",
       "_view_module_version": "1.2.0",
       "_view_name": "LayoutView",
       "align_content": null,
       "align_items": null,
       "align_self": null,
       "border": null,
       "bottom": null,
       "display": null,
       "flex": null,
       "flex_flow": null,
       "grid_area": null,
       "grid_auto_columns": null,
       "grid_auto_flow": null,
       "grid_auto_rows": null,
       "grid_column": null,
       "grid_gap": null,
       "grid_row": null,
       "grid_template_areas": null,
       "grid_template_columns": null,
       "grid_template_rows": null,
       "height": null,
       "justify_content": null,
       "justify_items": null,
       "left": null,
       "margin": null,
       "max_height": null,
       "max_width": null,
       "min_height": null,
       "min_width": null,
       "object_fit": null,
       "object_position": null,
       "order": null,
       "overflow": null,
       "overflow_x": null,
       "overflow_y": null,
       "padding": null,
       "right": null,
       "top": null,
       "visibility": null,
       "width": null
      }
     },
     "5372bc063ea24df68ea56f8780b5083f": {
      "model_module": "@jupyter-widgets/base",
      "model_module_version": "1.2.0",
      "model_name": "LayoutModel",
      "state": {
       "_model_module": "@jupyter-widgets/base",
       "_model_module_version": "1.2.0",
       "_model_name": "LayoutModel",
       "_view_count": null,
       "_view_module": "@jupyter-widgets/base",
       "_view_module_version": "1.2.0",
       "_view_name": "LayoutView",
       "align_content": null,
       "align_items": null,
       "align_self": null,
       "border": null,
       "bottom": null,
       "display": null,
       "flex": null,
       "flex_flow": null,
       "grid_area": null,
       "grid_auto_columns": null,
       "grid_auto_flow": null,
       "grid_auto_rows": null,
       "grid_column": null,
       "grid_gap": null,
       "grid_row": null,
       "grid_template_areas": null,
       "grid_template_columns": null,
       "grid_template_rows": null,
       "height": null,
       "justify_content": null,
       "justify_items": null,
       "left": null,
       "margin": null,
       "max_height": null,
       "max_width": null,
       "min_height": null,
       "min_width": null,
       "object_fit": null,
       "object_position": null,
       "order": null,
       "overflow": null,
       "overflow_x": null,
       "overflow_y": null,
       "padding": null,
       "right": null,
       "top": null,
       "visibility": null,
       "width": null
      }
     },
     "54f40aab234b4e7e9cea159552133013": {
      "model_module": "@jupyter-widgets/controls",
      "model_module_version": "1.5.0",
      "model_name": "DescriptionStyleModel",
      "state": {
       "_model_module": "@jupyter-widgets/controls",
       "_model_module_version": "1.5.0",
       "_model_name": "DescriptionStyleModel",
       "_view_count": null,
       "_view_module": "@jupyter-widgets/base",
       "_view_module_version": "1.2.0",
       "_view_name": "StyleView",
       "description_width": ""
      }
     },
     "561ccdff6e144c808a53f1741e9953fe": {
      "model_module": "@jupyter-widgets/controls",
      "model_module_version": "1.5.0",
      "model_name": "HTMLModel",
      "state": {
       "_dom_classes": [],
       "_model_module": "@jupyter-widgets/controls",
       "_model_module_version": "1.5.0",
       "_model_name": "HTMLModel",
       "_view_count": null,
       "_view_module": "@jupyter-widgets/controls",
       "_view_module_version": "1.5.0",
       "_view_name": "HTMLView",
       "description": "",
       "description_tooltip": null,
       "layout": "IPY_MODEL_041e4b19aae140c69dde94c9f51122bb",
       "placeholder": "​",
       "style": "IPY_MODEL_a922b79bc605448b90fb91434f32095e",
       "value": "100%"
      }
     },
     "5a7f259a61fe46f091dfbeb4d3773f57": {
      "model_module": "@jupyter-widgets/controls",
      "model_module_version": "1.5.0",
      "model_name": "DescriptionStyleModel",
      "state": {
       "_model_module": "@jupyter-widgets/controls",
       "_model_module_version": "1.5.0",
       "_model_name": "DescriptionStyleModel",
       "_view_count": null,
       "_view_module": "@jupyter-widgets/base",
       "_view_module_version": "1.2.0",
       "_view_name": "StyleView",
       "description_width": ""
      }
     },
     "5eae94e819e74fd88038b6394f3f3932": {
      "model_module": "@jupyter-widgets/controls",
      "model_module_version": "1.5.0",
      "model_name": "HBoxModel",
      "state": {
       "_dom_classes": [],
       "_model_module": "@jupyter-widgets/controls",
       "_model_module_version": "1.5.0",
       "_model_name": "HBoxModel",
       "_view_count": null,
       "_view_module": "@jupyter-widgets/controls",
       "_view_module_version": "1.5.0",
       "_view_name": "HBoxView",
       "box_style": "",
       "children": [
        "IPY_MODEL_83376f7c2cda43f6a0c51ff47d14e989",
        "IPY_MODEL_ae5037979f114a30b33aa627980f6a06",
        "IPY_MODEL_c3334487f741428dace4d3bece6d3f85"
       ],
       "layout": "IPY_MODEL_365752d0e2af4b27aaaae3741c6487e7"
      }
     },
     "681f38b6a2db456fbadb4687157698de": {
      "model_module": "@jupyter-widgets/controls",
      "model_module_version": "1.5.0",
      "model_name": "DescriptionStyleModel",
      "state": {
       "_model_module": "@jupyter-widgets/controls",
       "_model_module_version": "1.5.0",
       "_model_name": "DescriptionStyleModel",
       "_view_count": null,
       "_view_module": "@jupyter-widgets/base",
       "_view_module_version": "1.2.0",
       "_view_name": "StyleView",
       "description_width": ""
      }
     },
     "72bf533d72c94685a4c2350043e5cd30": {
      "model_module": "@jupyter-widgets/controls",
      "model_module_version": "1.5.0",
      "model_name": "ProgressStyleModel",
      "state": {
       "_model_module": "@jupyter-widgets/controls",
       "_model_module_version": "1.5.0",
       "_model_name": "ProgressStyleModel",
       "_view_count": null,
       "_view_module": "@jupyter-widgets/base",
       "_view_module_version": "1.2.0",
       "_view_name": "StyleView",
       "bar_color": null,
       "description_width": ""
      }
     },
     "7b8f8e8017464d28bf6920a2a77c93fe": {
      "model_module": "@jupyter-widgets/controls",
      "model_module_version": "1.5.0",
      "model_name": "DescriptionStyleModel",
      "state": {
       "_model_module": "@jupyter-widgets/controls",
       "_model_module_version": "1.5.0",
       "_model_name": "DescriptionStyleModel",
       "_view_count": null,
       "_view_module": "@jupyter-widgets/base",
       "_view_module_version": "1.2.0",
       "_view_name": "StyleView",
       "description_width": ""
      }
     },
     "7daba7f782184e948f25e17c830c52ba": {
      "model_module": "@jupyter-widgets/base",
      "model_module_version": "1.2.0",
      "model_name": "LayoutModel",
      "state": {
       "_model_module": "@jupyter-widgets/base",
       "_model_module_version": "1.2.0",
       "_model_name": "LayoutModel",
       "_view_count": null,
       "_view_module": "@jupyter-widgets/base",
       "_view_module_version": "1.2.0",
       "_view_name": "LayoutView",
       "align_content": null,
       "align_items": null,
       "align_self": null,
       "border": null,
       "bottom": null,
       "display": null,
       "flex": null,
       "flex_flow": null,
       "grid_area": null,
       "grid_auto_columns": null,
       "grid_auto_flow": null,
       "grid_auto_rows": null,
       "grid_column": null,
       "grid_gap": null,
       "grid_row": null,
       "grid_template_areas": null,
       "grid_template_columns": null,
       "grid_template_rows": null,
       "height": null,
       "justify_content": null,
       "justify_items": null,
       "left": null,
       "margin": null,
       "max_height": null,
       "max_width": null,
       "min_height": null,
       "min_width": null,
       "object_fit": null,
       "object_position": null,
       "order": null,
       "overflow": null,
       "overflow_x": null,
       "overflow_y": null,
       "padding": null,
       "right": null,
       "top": null,
       "visibility": null,
       "width": null
      }
     },
     "83376f7c2cda43f6a0c51ff47d14e989": {
      "model_module": "@jupyter-widgets/controls",
      "model_module_version": "1.5.0",
      "model_name": "HTMLModel",
      "state": {
       "_dom_classes": [],
       "_model_module": "@jupyter-widgets/controls",
       "_model_module_version": "1.5.0",
       "_model_name": "HTMLModel",
       "_view_count": null,
       "_view_module": "@jupyter-widgets/controls",
       "_view_module_version": "1.5.0",
       "_view_name": "HTMLView",
       "description": "",
       "description_tooltip": null,
       "layout": "IPY_MODEL_8c83984a0834440ca9aaa13d99329784",
       "placeholder": "​",
       "style": "IPY_MODEL_7b8f8e8017464d28bf6920a2a77c93fe",
       "value": "100%"
      }
     },
     "8711b699bd984d26afc77e538958fabd": {
      "model_module": "@jupyter-widgets/base",
      "model_module_version": "1.2.0",
      "model_name": "LayoutModel",
      "state": {
       "_model_module": "@jupyter-widgets/base",
       "_model_module_version": "1.2.0",
       "_model_name": "LayoutModel",
       "_view_count": null,
       "_view_module": "@jupyter-widgets/base",
       "_view_module_version": "1.2.0",
       "_view_name": "LayoutView",
       "align_content": null,
       "align_items": null,
       "align_self": null,
       "border": null,
       "bottom": null,
       "display": null,
       "flex": null,
       "flex_flow": null,
       "grid_area": null,
       "grid_auto_columns": null,
       "grid_auto_flow": null,
       "grid_auto_rows": null,
       "grid_column": null,
       "grid_gap": null,
       "grid_row": null,
       "grid_template_areas": null,
       "grid_template_columns": null,
       "grid_template_rows": null,
       "height": null,
       "justify_content": null,
       "justify_items": null,
       "left": null,
       "margin": null,
       "max_height": null,
       "max_width": null,
       "min_height": null,
       "min_width": null,
       "object_fit": null,
       "object_position": null,
       "order": null,
       "overflow": null,
       "overflow_x": null,
       "overflow_y": null,
       "padding": null,
       "right": null,
       "top": null,
       "visibility": null,
       "width": null
      }
     },
     "8c83984a0834440ca9aaa13d99329784": {
      "model_module": "@jupyter-widgets/base",
      "model_module_version": "1.2.0",
      "model_name": "LayoutModel",
      "state": {
       "_model_module": "@jupyter-widgets/base",
       "_model_module_version": "1.2.0",
       "_model_name": "LayoutModel",
       "_view_count": null,
       "_view_module": "@jupyter-widgets/base",
       "_view_module_version": "1.2.0",
       "_view_name": "LayoutView",
       "align_content": null,
       "align_items": null,
       "align_self": null,
       "border": null,
       "bottom": null,
       "display": null,
       "flex": null,
       "flex_flow": null,
       "grid_area": null,
       "grid_auto_columns": null,
       "grid_auto_flow": null,
       "grid_auto_rows": null,
       "grid_column": null,
       "grid_gap": null,
       "grid_row": null,
       "grid_template_areas": null,
       "grid_template_columns": null,
       "grid_template_rows": null,
       "height": null,
       "justify_content": null,
       "justify_items": null,
       "left": null,
       "margin": null,
       "max_height": null,
       "max_width": null,
       "min_height": null,
       "min_width": null,
       "object_fit": null,
       "object_position": null,
       "order": null,
       "overflow": null,
       "overflow_x": null,
       "overflow_y": null,
       "padding": null,
       "right": null,
       "top": null,
       "visibility": null,
       "width": null
      }
     },
     "978a6b4e13094326ba4bd05cebebcd81": {
      "model_module": "@jupyter-widgets/base",
      "model_module_version": "1.2.0",
      "model_name": "LayoutModel",
      "state": {
       "_model_module": "@jupyter-widgets/base",
       "_model_module_version": "1.2.0",
       "_model_name": "LayoutModel",
       "_view_count": null,
       "_view_module": "@jupyter-widgets/base",
       "_view_module_version": "1.2.0",
       "_view_name": "LayoutView",
       "align_content": null,
       "align_items": null,
       "align_self": null,
       "border": null,
       "bottom": null,
       "display": null,
       "flex": null,
       "flex_flow": null,
       "grid_area": null,
       "grid_auto_columns": null,
       "grid_auto_flow": null,
       "grid_auto_rows": null,
       "grid_column": null,
       "grid_gap": null,
       "grid_row": null,
       "grid_template_areas": null,
       "grid_template_columns": null,
       "grid_template_rows": null,
       "height": null,
       "justify_content": null,
       "justify_items": null,
       "left": null,
       "margin": null,
       "max_height": null,
       "max_width": null,
       "min_height": null,
       "min_width": null,
       "object_fit": null,
       "object_position": null,
       "order": null,
       "overflow": null,
       "overflow_x": null,
       "overflow_y": null,
       "padding": null,
       "right": null,
       "top": null,
       "visibility": null,
       "width": null
      }
     },
     "9affd6a802d94c909769dd67a2f26bf5": {
      "model_module": "@jupyter-widgets/controls",
      "model_module_version": "1.5.0",
      "model_name": "ProgressStyleModel",
      "state": {
       "_model_module": "@jupyter-widgets/controls",
       "_model_module_version": "1.5.0",
       "_model_name": "ProgressStyleModel",
       "_view_count": null,
       "_view_module": "@jupyter-widgets/base",
       "_view_module_version": "1.2.0",
       "_view_name": "StyleView",
       "bar_color": null,
       "description_width": ""
      }
     },
     "a581367a715d4f7b86a2d971718cfccd": {
      "model_module": "@jupyter-widgets/base",
      "model_module_version": "1.2.0",
      "model_name": "LayoutModel",
      "state": {
       "_model_module": "@jupyter-widgets/base",
       "_model_module_version": "1.2.0",
       "_model_name": "LayoutModel",
       "_view_count": null,
       "_view_module": "@jupyter-widgets/base",
       "_view_module_version": "1.2.0",
       "_view_name": "LayoutView",
       "align_content": null,
       "align_items": null,
       "align_self": null,
       "border": null,
       "bottom": null,
       "display": null,
       "flex": null,
       "flex_flow": null,
       "grid_area": null,
       "grid_auto_columns": null,
       "grid_auto_flow": null,
       "grid_auto_rows": null,
       "grid_column": null,
       "grid_gap": null,
       "grid_row": null,
       "grid_template_areas": null,
       "grid_template_columns": null,
       "grid_template_rows": null,
       "height": null,
       "justify_content": null,
       "justify_items": null,
       "left": null,
       "margin": null,
       "max_height": null,
       "max_width": null,
       "min_height": null,
       "min_width": null,
       "object_fit": null,
       "object_position": null,
       "order": null,
       "overflow": null,
       "overflow_x": null,
       "overflow_y": null,
       "padding": null,
       "right": null,
       "top": null,
       "visibility": null,
       "width": null
      }
     },
     "a922b79bc605448b90fb91434f32095e": {
      "model_module": "@jupyter-widgets/controls",
      "model_module_version": "1.5.0",
      "model_name": "DescriptionStyleModel",
      "state": {
       "_model_module": "@jupyter-widgets/controls",
       "_model_module_version": "1.5.0",
       "_model_name": "DescriptionStyleModel",
       "_view_count": null,
       "_view_module": "@jupyter-widgets/base",
       "_view_module_version": "1.2.0",
       "_view_name": "StyleView",
       "description_width": ""
      }
     },
     "ae5037979f114a30b33aa627980f6a06": {
      "model_module": "@jupyter-widgets/controls",
      "model_module_version": "1.5.0",
      "model_name": "FloatProgressModel",
      "state": {
       "_dom_classes": [],
       "_model_module": "@jupyter-widgets/controls",
       "_model_module_version": "1.5.0",
       "_model_name": "FloatProgressModel",
       "_view_count": null,
       "_view_module": "@jupyter-widgets/controls",
       "_view_module_version": "1.5.0",
       "_view_name": "ProgressView",
       "bar_style": "",
       "description": "",
       "description_tooltip": null,
       "layout": "IPY_MODEL_c3f2d794cc71443891e85995c30095fb",
       "max": 12000.0,
       "min": 0.0,
       "orientation": "horizontal",
       "style": "IPY_MODEL_72bf533d72c94685a4c2350043e5cd30",
       "value": 11998.0
      }
     },
     "b180d2227d174c63a3c6c0f194e1bd9f": {
      "model_module": "@jupyter-widgets/controls",
      "model_module_version": "1.5.0",
      "model_name": "FloatProgressModel",
      "state": {
       "_dom_classes": [],
       "_model_module": "@jupyter-widgets/controls",
       "_model_module_version": "1.5.0",
       "_model_name": "FloatProgressModel",
       "_view_count": null,
       "_view_module": "@jupyter-widgets/controls",
       "_view_module_version": "1.5.0",
       "_view_name": "ProgressView",
       "bar_style": "success",
       "description": "",
       "description_tooltip": null,
       "layout": "IPY_MODEL_45514e2eb0804e52a729086bc6241650",
       "max": 178793939.0,
       "min": 0.0,
       "orientation": "horizontal",
       "style": "IPY_MODEL_b3eb96715fec499c8ea009b7a04bd792",
       "value": 178793939.0
      }
     },
     "b18d4f6976214b8c86e0ec9d4c42b7b4": {
      "model_module": "@jupyter-widgets/controls",
      "model_module_version": "1.5.0",
      "model_name": "LabelModel",
      "state": {
       "_dom_classes": [],
       "_model_module": "@jupyter-widgets/controls",
       "_model_module_version": "1.5.0",
       "_model_name": "LabelModel",
       "_view_count": null,
       "_view_module": "@jupyter-widgets/controls",
       "_view_module_version": "1.5.0",
       "_view_name": "LabelView",
       "description": "",
       "description_tooltip": null,
       "layout": "IPY_MODEL_4fc07adf1b354bb7b1851e2d3a5e6b07",
       "placeholder": "​",
       "style": "IPY_MODEL_c656142142ae4ca5b84231c2e33b54d5",
       "value": ""
      }
     },
     "b3eb96715fec499c8ea009b7a04bd792": {
      "model_module": "@jupyter-widgets/controls",
      "model_module_version": "1.5.0",
      "model_name": "ProgressStyleModel",
      "state": {
       "_model_module": "@jupyter-widgets/controls",
       "_model_module_version": "1.5.0",
       "_model_name": "ProgressStyleModel",
       "_view_count": null,
       "_view_module": "@jupyter-widgets/base",
       "_view_module_version": "1.2.0",
       "_view_name": "StyleView",
       "bar_color": null,
       "description_width": ""
      }
     },
     "bf6ba9383b0e49debe7978980486ee5a": {
      "model_module": "@jupyter-widgets/controls",
      "model_module_version": "1.5.0",
      "model_name": "HBoxModel",
      "state": {
       "_dom_classes": [],
       "_model_module": "@jupyter-widgets/controls",
       "_model_module_version": "1.5.0",
       "_model_name": "HBoxModel",
       "_view_count": null,
       "_view_module": "@jupyter-widgets/controls",
       "_view_module_version": "1.5.0",
       "_view_name": "HBoxView",
       "box_style": "",
       "children": [
        "IPY_MODEL_089ece73f8d64cb9aa8753e9b90f9bd4",
        "IPY_MODEL_b180d2227d174c63a3c6c0f194e1bd9f",
        "IPY_MODEL_37bb8cadfd9546a8bc609c8872fc1feb"
       ],
       "layout": "IPY_MODEL_44abf0caf3a84f64ad5db6f269cd3e27"
      }
     },
     "c3334487f741428dace4d3bece6d3f85": {
      "model_module": "@jupyter-widgets/controls",
      "model_module_version": "1.5.0",
      "model_name": "HTMLModel",
      "state": {
       "_dom_classes": [],
       "_model_module": "@jupyter-widgets/controls",
       "_model_module_version": "1.5.0",
       "_model_name": "HTMLModel",
       "_view_count": null,
       "_view_module": "@jupyter-widgets/controls",
       "_view_module_version": "1.5.0",
       "_view_name": "HTMLView",
       "description": "",
       "description_tooltip": null,
       "layout": "IPY_MODEL_8711b699bd984d26afc77e538958fabd",
       "placeholder": "​",
       "style": "IPY_MODEL_54f40aab234b4e7e9cea159552133013",
       "value": " 11998/12000 [6:09:25&lt;00:02,  1.11s/it]"
      }
     },
     "c3f2d794cc71443891e85995c30095fb": {
      "model_module": "@jupyter-widgets/base",
      "model_module_version": "1.2.0",
      "model_name": "LayoutModel",
      "state": {
       "_model_module": "@jupyter-widgets/base",
       "_model_module_version": "1.2.0",
       "_model_name": "LayoutModel",
       "_view_count": null,
       "_view_module": "@jupyter-widgets/base",
       "_view_module_version": "1.2.0",
       "_view_name": "LayoutView",
       "align_content": null,
       "align_items": null,
       "align_self": null,
       "border": null,
       "bottom": null,
       "display": null,
       "flex": null,
       "flex_flow": null,
       "grid_area": null,
       "grid_auto_columns": null,
       "grid_auto_flow": null,
       "grid_auto_rows": null,
       "grid_column": null,
       "grid_gap": null,
       "grid_row": null,
       "grid_template_areas": null,
       "grid_template_columns": null,
       "grid_template_rows": null,
       "height": null,
       "justify_content": null,
       "justify_items": null,
       "left": null,
       "margin": null,
       "max_height": null,
       "max_width": null,
       "min_height": null,
       "min_width": null,
       "object_fit": null,
       "object_position": null,
       "order": null,
       "overflow": null,
       "overflow_x": null,
       "overflow_y": null,
       "padding": null,
       "right": null,
       "top": null,
       "visibility": null,
       "width": null
      }
     },
     "c3f799d19e3749658564d69244afcf4e": {
      "model_module": "@jupyter-widgets/base",
      "model_module_version": "1.2.0",
      "model_name": "LayoutModel",
      "state": {
       "_model_module": "@jupyter-widgets/base",
       "_model_module_version": "1.2.0",
       "_model_name": "LayoutModel",
       "_view_count": null,
       "_view_module": "@jupyter-widgets/base",
       "_view_module_version": "1.2.0",
       "_view_name": "LayoutView",
       "align_content": null,
       "align_items": null,
       "align_self": null,
       "border": null,
       "bottom": null,
       "display": null,
       "flex": null,
       "flex_flow": null,
       "grid_area": null,
       "grid_auto_columns": null,
       "grid_auto_flow": null,
       "grid_auto_rows": null,
       "grid_column": null,
       "grid_gap": null,
       "grid_row": null,
       "grid_template_areas": null,
       "grid_template_columns": null,
       "grid_template_rows": null,
       "height": null,
       "justify_content": null,
       "justify_items": null,
       "left": null,
       "margin": null,
       "max_height": null,
       "max_width": null,
       "min_height": null,
       "min_width": null,
       "object_fit": null,
       "object_position": null,
       "order": null,
       "overflow": null,
       "overflow_x": null,
       "overflow_y": null,
       "padding": null,
       "right": null,
       "top": null,
       "visibility": null,
       "width": null
      }
     },
     "c656142142ae4ca5b84231c2e33b54d5": {
      "model_module": "@jupyter-widgets/controls",
      "model_module_version": "1.5.0",
      "model_name": "DescriptionStyleModel",
      "state": {
       "_model_module": "@jupyter-widgets/controls",
       "_model_module_version": "1.5.0",
       "_model_name": "DescriptionStyleModel",
       "_view_count": null,
       "_view_module": "@jupyter-widgets/base",
       "_view_module_version": "1.2.0",
       "_view_name": "StyleView",
       "description_width": ""
      }
     },
     "ce3b4d4068984aa086e0e8e24ed401d0": {
      "model_module": "@jupyter-widgets/base",
      "model_module_version": "1.2.0",
      "model_name": "LayoutModel",
      "state": {
       "_model_module": "@jupyter-widgets/base",
       "_model_module_version": "1.2.0",
       "_model_name": "LayoutModel",
       "_view_count": null,
       "_view_module": "@jupyter-widgets/base",
       "_view_module_version": "1.2.0",
       "_view_name": "LayoutView",
       "align_content": null,
       "align_items": null,
       "align_self": null,
       "border": null,
       "bottom": null,
       "display": null,
       "flex": null,
       "flex_flow": null,
       "grid_area": null,
       "grid_auto_columns": null,
       "grid_auto_flow": null,
       "grid_auto_rows": null,
       "grid_column": null,
       "grid_gap": null,
       "grid_row": null,
       "grid_template_areas": null,
       "grid_template_columns": null,
       "grid_template_rows": null,
       "height": null,
       "justify_content": null,
       "justify_items": null,
       "left": null,
       "margin": null,
       "max_height": null,
       "max_width": null,
       "min_height": null,
       "min_width": null,
       "object_fit": null,
       "object_position": null,
       "order": null,
       "overflow": null,
       "overflow_x": null,
       "overflow_y": null,
       "padding": null,
       "right": null,
       "top": null,
       "visibility": null,
       "width": null
      }
     },
     "cf65d607ef344cb9be35f602c2b7b146": {
      "model_module": "@jupyter-widgets/controls",
      "model_module_version": "1.5.0",
      "model_name": "ProgressStyleModel",
      "state": {
       "_model_module": "@jupyter-widgets/controls",
       "_model_module_version": "1.5.0",
       "_model_name": "ProgressStyleModel",
       "_view_count": null,
       "_view_module": "@jupyter-widgets/base",
       "_view_module_version": "1.2.0",
       "_view_name": "StyleView",
       "bar_color": null,
       "description_width": ""
      }
     },
     "d4a03386f3e34997bfd6fdc2d30f971a": {
      "model_module": "@jupyter-widgets/controls",
      "model_module_version": "1.5.0",
      "model_name": "DescriptionStyleModel",
      "state": {
       "_model_module": "@jupyter-widgets/controls",
       "_model_module_version": "1.5.0",
       "_model_name": "DescriptionStyleModel",
       "_view_count": null,
       "_view_module": "@jupyter-widgets/base",
       "_view_module_version": "1.2.0",
       "_view_name": "StyleView",
       "description_width": ""
      }
     },
     "ded4e3a532e04f06ab93ace334ae0884": {
      "model_module": "@jupyter-widgets/controls",
      "model_module_version": "1.5.0",
      "model_name": "ProgressStyleModel",
      "state": {
       "_model_module": "@jupyter-widgets/controls",
       "_model_module_version": "1.5.0",
       "_model_name": "ProgressStyleModel",
       "_view_count": null,
       "_view_module": "@jupyter-widgets/base",
       "_view_module_version": "1.2.0",
       "_view_name": "StyleView",
       "bar_color": null,
       "description_width": ""
      }
     },
     "ecf6ec2b615d4aec8779de8ae3c5c687": {
      "model_module": "@jupyter-widgets/controls",
      "model_module_version": "1.5.0",
      "model_name": "VBoxModel",
      "state": {
       "_dom_classes": [],
       "_model_module": "@jupyter-widgets/controls",
       "_model_module_version": "1.5.0",
       "_model_name": "VBoxModel",
       "_view_count": null,
       "_view_module": "@jupyter-widgets/controls",
       "_view_module_version": "1.5.0",
       "_view_name": "VBoxView",
       "box_style": "",
       "children": [
        "IPY_MODEL_b18d4f6976214b8c86e0ec9d4c42b7b4",
        "IPY_MODEL_f64faa75dc694c34aff6ea1fa3aa9a19"
       ],
       "layout": "IPY_MODEL_978a6b4e13094326ba4bd05cebebcd81"
      }
     },
     "f64faa75dc694c34aff6ea1fa3aa9a19": {
      "model_module": "@jupyter-widgets/controls",
      "model_module_version": "1.5.0",
      "model_name": "FloatProgressModel",
      "state": {
       "_dom_classes": [],
       "_model_module": "@jupyter-widgets/controls",
       "_model_module_version": "1.5.0",
       "_model_name": "FloatProgressModel",
       "_view_count": null,
       "_view_module": "@jupyter-widgets/controls",
       "_view_module_version": "1.5.0",
       "_view_name": "ProgressView",
       "bar_style": "",
       "description": "",
       "description_tooltip": null,
       "layout": "IPY_MODEL_53228335a05941049fc070fdce0a904b",
       "max": 1.0,
       "min": 0.0,
       "orientation": "horizontal",
       "style": "IPY_MODEL_ded4e3a532e04f06ab93ace334ae0884",
       "value": 0.0
      }
     },
     "faba337314774e6ea78d99585f32169e": {
      "model_module": "@jupyter-widgets/base",
      "model_module_version": "1.2.0",
      "model_name": "LayoutModel",
      "state": {
       "_model_module": "@jupyter-widgets/base",
       "_model_module_version": "1.2.0",
       "_model_name": "LayoutModel",
       "_view_count": null,
       "_view_module": "@jupyter-widgets/base",
       "_view_module_version": "1.2.0",
       "_view_name": "LayoutView",
       "align_content": null,
       "align_items": null,
       "align_self": null,
       "border": null,
       "bottom": null,
       "display": null,
       "flex": null,
       "flex_flow": null,
       "grid_area": null,
       "grid_auto_columns": null,
       "grid_auto_flow": null,
       "grid_auto_rows": null,
       "grid_column": null,
       "grid_gap": null,
       "grid_row": null,
       "grid_template_areas": null,
       "grid_template_columns": null,
       "grid_template_rows": null,
       "height": null,
       "justify_content": null,
       "justify_items": null,
       "left": null,
       "margin": null,
       "max_height": null,
       "max_width": null,
       "min_height": null,
       "min_width": null,
       "object_fit": null,
       "object_position": null,
       "order": null,
       "overflow": null,
       "overflow_x": null,
       "overflow_y": null,
       "padding": null,
       "right": null,
       "top": null,
       "visibility": null,
       "width": null
      }
     },
     "fea244ac714641f7b8ef84d0a5c16158": {
      "model_module": "@jupyter-widgets/controls",
      "model_module_version": "1.5.0",
      "model_name": "DescriptionStyleModel",
      "state": {
       "_model_module": "@jupyter-widgets/controls",
       "_model_module_version": "1.5.0",
       "_model_name": "DescriptionStyleModel",
       "_view_count": null,
       "_view_module": "@jupyter-widgets/base",
       "_view_module_version": "1.2.0",
       "_view_name": "StyleView",
       "description_width": ""
      }
     }
    },
    "version_major": 2,
    "version_minor": 0
   }
  }
 },
 "nbformat": 4,
 "nbformat_minor": 5
}
